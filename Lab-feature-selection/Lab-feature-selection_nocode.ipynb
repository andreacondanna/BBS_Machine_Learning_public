{
 "cells": [
  {
   "cell_type": "markdown",
   "id": "e4784001",
   "metadata": {},
   "source": [
    "# Machine Learning lab - Attribute selection\n",
    "Source:\n",
    "- Tabular Playground Series - Jun 2021\n",
    "- https://www.kaggle.com/competitions/tabular-playground-series-jun-2021\n",
    "\n",
    "We have available \n",
    "- the data file, `data_train.csv`\n",
    "- the independent test file `data_test.csv`\n",
    "\n",
    "Workflow:\n",
    "\n",
    "1. load `data_train.csv` and do some exploration (the number of columns is not small, avoid using `pairplots`, it would be very slow and undreadable)\n",
    "1. cancel useless columns, if any, use as target the `target` column, separate predicting from target into `X_full` and `y`\n",
    "1. split `X_full` and `y` data into __train__ and __test__; since the file is quite large, for a faster development use not more than 2000 rows for training, and the remaining for testing\n",
    "1. prepare a data frame to collect the results and a list to store all the estimators that will be fitted\n",
    "1. train and test using some classification models with score `f1_score`\n",
    "    - for each classification model\n",
    "        - fit the model with cross validation and store it in the list of estimators\n",
    "        - predict with the test set, \n",
    "        - produce a classsification report and store the values in the results dataframe\n",
    "1. Try unsupervised attribute selection: use `PCA` to keep only the transformed features able to explain, cumulatively, approximately 80% of the total variance\n",
    "1. store in `X_pca` the remaining, transformed variables\n",
    "1. split the `X_pca` and y into __train__ and __test__ as in 3\n",
    "1. train and test as in 5\n",
    "1. Try supervised attrubute selection: use `SelectKBest` as selector and `mutual_info_classif` as estimator of the relationship between each feature and the target, \n",
    "1. set the `k` parameter of `SelectKBest` to the number of surviving features determined in 6, split the data into train and test\n",
    "1. fit and transform the data \n",
    "    - fit and transform with the selector using `X_train`\n",
    "    - transform `X_test` using the fitted selector\n",
    "1. train and test as in 5\n",
    "1. show the results and the confusion matrix for the best model\n",
    "1. show all the results sorted for decreasing scoring, decide which is the best solution and comment why\n",
    "1. Final test\n",
    "    - load the test data\n",
    "    - train the best model with the `X` data (possibily reduced, according to the best solution)\n",
    "    - predict for `X_final_test`\n",
    "    - show the confusion matrix and the classification report "
   ]
  },
  {
   "cell_type": "markdown",
   "id": "daab356a",
   "metadata": {},
   "source": [
    "#### Import libraries and prepare the constant values that will be used"
   ]
  },
  {
   "cell_type": "code",
   "execution_count": 7,
   "id": "804a1e82",
   "metadata": {
    "id": "804a1e82"
   },
   "outputs": [],
   "source": [
    "#Tabular Playground Series - Jun 2021\n",
    "#https://www.kaggle.com/competitions/tabular-playground-series-jun-2021\n",
    "\n",
    "\n",
    "import warnings\n",
    "warnings.filterwarnings('ignore') # uncomment this line to suppress warnings\n",
    "\n",
    "import pandas as pd\n",
    "import numpy as np\n",
    "import matplotlib.pyplot as plt\n",
    "from sklearn import datasets\n",
    "from sklearn.model_selection import train_test_split, GridSearchCV, StratifiedKFold\n",
    "from sklearn.metrics import classification_report, ConfusionMatrixDisplay\n",
    "from sklearn.tree import DecisionTreeClassifier\n",
    "from sklearn.ensemble import RandomForestClassifier\n",
    "from sklearn.decomposition import PCA\n",
    "from sklearn.preprocessing import LabelEncoder # for encoding categorical target labels\n",
    "from sklearn.feature_selection import SelectKBest # for supervised selection of best features\n",
    "                                 "
   ]
  },
  {
   "cell_type": "code",
   "execution_count": 8,
   "id": "98d485c5",
   "metadata": {},
   "outputs": [],
   "source": [
    "# constants\n",
    "file_path = \"../data/feature-selection/\" # path to the data files\n",
    "data_file = \"data_train.csv\"\n",
    "test_file = \"data_test.csv\"\n",
    "train_size = 0.0125 # train size chosen to have a few tousands of elements\n",
    "cutoff_variance = .8 # the total amount of variance explained by the selected transformed features with PCA\n",
    "cv = 5               # number of folds for cross-validation\n",
    "random_state = 42    # seed for random number generator\n",
    "np.random.seed(random_state) # this sets the random sequence. \n",
    "                             # Setting this the perfect repeatability is guaranteed\n",
    "                             # when re-execute the entire notebook"
   ]
  },
  {
   "cell_type": "code",
   "execution_count": 9,
   "id": "ffd83937",
   "metadata": {},
   "outputs": [],
   "source": [
    "# comment models for a quick test\n",
    "model_lbls = ['dt' # decision tree\n",
    "             ,'rf'   # random forest\n",
    "            ]\n",
    "\n",
    "# models to be tested with hyperparameters\n",
    "models = {\n",
    "    'dt': {'name': 'Decision Tree',\n",
    "           'estimator': DecisionTreeClassifier(random_state=random_state),\n",
    "           'param': [{'max_depth': [*range(1,20)],'class_weight':[None,'balanced']}],\n",
    "          },\n",
    "    'rf': {'name': 'Random forest',\n",
    "           'estimator': RandomForestClassifier(random_state=random_state),\n",
    "           'param': [{\n",
    "                      # 'max_depth': [*range(4,30)]\n",
    "                      'max_depth': [*range(4,30,4)]\n",
    "                    #  ,'n_estimators':[*range(20,80,5)]\n",
    "                     ,'n_estimators':[*range(10,30,5)]\n",
    "                     ,'class_weight': [None,'balanced']\n",
    "                      }]\n",
    "          }\n",
    "\n",
    "}\n",
    "\n",
    "scoring = 'f1_macro'\n"
   ]
  },
  {
   "cell_type": "markdown",
   "id": "b3545526",
   "metadata": {},
   "source": [
    "## 1. load the data\n",
    "Do also some exploration: show the size, the description and the number of unique values in features, in order to catch possibile identifiers to be dropped"
   ]
  },
  {
   "cell_type": "code",
   "execution_count": 10,
   "id": "a85b4963",
   "metadata": {},
   "outputs": [
    {
     "name": "stdout",
     "output_type": "stream",
     "text": [
      "       id  feature_0  feature_1  ...  feature_73  feature_74   target\n",
      "0  184152          0          0  ...           0           0  Class_6\n",
      "1  197541          0          0  ...           0           0  Class_6\n",
      "2  152477          3          0  ...           2           0  Class_8\n",
      "3  165474          0          2  ...           0           0  Class_8\n",
      "4  123755          0          4  ...           0           0  Class_7\n",
      "\n",
      "[5 rows x 77 columns]\n",
      "                  id      feature_0  ...     feature_73     feature_74\n",
      "count  160000.000000  160000.000000  ...  160000.000000  160000.000000\n",
      "mean    99877.897613       0.968950  ...       2.935406       0.631750\n",
      "std     57758.706261       3.912136  ...      10.765003       3.923869\n",
      "min         0.000000       0.000000  ...       0.000000       0.000000\n",
      "25%     49801.750000       0.000000  ...       0.000000       0.000000\n",
      "50%     99768.000000       0.000000  ...       0.000000       0.000000\n",
      "75%    149957.250000       1.000000  ...       1.000000       0.000000\n",
      "max    199997.000000      61.000000  ...     130.000000      52.000000\n",
      "\n",
      "[8 rows x 76 columns]\n",
      "(160000, 77)\n"
     ]
    }
   ],
   "source": [
    "train_data=pd.read_csv(file_path+data_file)\n",
    "print(train_data.head())\n",
    "print(train_data.describe())\n",
    "print(train_data.shape)\n"
   ]
  },
  {
   "cell_type": "code",
   "execution_count": null,
   "id": "9a69fcdf",
   "metadata": {
    "colab": {
     "base_uri": "https://localhost:8080/",
     "height": 412
    },
    "id": "9a69fcdf",
    "outputId": "2a1b9d8d-db9f-4a84-9d8b-6acac711ae46"
   },
   "outputs": [],
   "source": []
  },
  {
   "cell_type": "code",
   "execution_count": null,
   "id": "0050d8f1",
   "metadata": {
    "id": "0050d8f1"
   },
   "outputs": [],
   "source": []
  },
  {
   "cell_type": "markdown",
   "id": "8ee900b1",
   "metadata": {},
   "source": [
    "### Show the number of unique values in each column: a number equal to the number of rows most likely indicates an identifier, that is useless for machine learning and should be dropped\n",
    "Showing only the biggest one in decreasing order makes easier the interpretation"
   ]
  },
  {
   "cell_type": "code",
   "execution_count": 11,
   "id": "c6679ce5",
   "metadata": {
    "colab": {
     "base_uri": "https://localhost:8080/"
    },
    "id": "c6679ce5",
    "outputId": "d2e79a76-49ec-416b-e47a-7b031a5e6f4c"
   },
   "outputs": [
    {
     "name": "stdout",
     "output_type": "stream",
     "text": [
      "id            160000\n",
      "feature_15       104\n",
      "feature_60        94\n",
      "feature_73        90\n",
      "feature_59        88\n",
      "feature_46        87\n",
      "feature_28        78\n",
      "feature_32        77\n",
      "feature_54        72\n",
      "feature_61        70\n",
      "dtype: int64\n"
     ]
    }
   ],
   "source": [
    "print(train_data.nunique().sort_values(ascending=False)[:10])"
   ]
  },
  {
   "cell_type": "markdown",
   "id": "0b47771a",
   "metadata": {},
   "source": [
    "#### Eplore the target"
   ]
  },
  {
   "cell_type": "code",
   "execution_count": 12,
   "id": "8f669a80",
   "metadata": {
    "colab": {
     "base_uri": "https://localhost:8080/"
    },
    "id": "8f669a80",
    "outputId": "89a4714c-67e8-4eda-cedd-de6a87272964"
   },
   "outputs": [
    {
     "name": "stdout",
     "output_type": "stream",
     "text": [
      "['Class_1' 'Class_2' 'Class_3' 'Class_4' 'Class_5' 'Class_6' 'Class_7'\n",
      " 'Class_8' 'Class_9']\n"
     ]
    }
   ],
   "source": [
    "target = 'target'\n",
    "classes=train_data[target].unique()\n",
    "classes.sort()\n",
    "print(classes)"
   ]
  },
  {
   "cell_type": "markdown",
   "id": "13a48fac",
   "metadata": {},
   "source": [
    "## 2. cancel useless columns, if any, prepare the features and the target \n",
    "use as target the `target` column, separate predicting from target into `X_full` and `y`"
   ]
  },
  {
   "cell_type": "code",
   "execution_count": 13,
   "id": "398f513e",
   "metadata": {
    "id": "398f513e"
   },
   "outputs": [],
   "source": [
    "target = train_data['target']\n",
    "y = target\n",
    "X_full = train_data.drop(['target', 'id'], axis=1)\n"
   ]
  },
  {
   "cell_type": "code",
   "execution_count": 14,
   "id": "33013a1f",
   "metadata": {
    "colab": {
     "base_uri": "https://localhost:8080/",
     "height": 255
    },
    "id": "33013a1f",
    "outputId": "144dd82c-f257-409b-d30a-d1a972675ff0"
   },
   "outputs": [
    {
     "name": "stdout",
     "output_type": "stream",
     "text": [
      "0         Class_6\n",
      "1         Class_6\n",
      "2         Class_8\n",
      "3         Class_8\n",
      "4         Class_7\n",
      "           ...   \n",
      "159995    Class_7\n",
      "159996    Class_6\n",
      "159997    Class_8\n",
      "159998    Class_5\n",
      "159999    Class_2\n",
      "Name: target, Length: 160000, dtype: object\n"
     ]
    },
    {
     "data": {
      "text/html": [
       "<div>\n",
       "<style scoped>\n",
       "    .dataframe tbody tr th:only-of-type {\n",
       "        vertical-align: middle;\n",
       "    }\n",
       "\n",
       "    .dataframe tbody tr th {\n",
       "        vertical-align: top;\n",
       "    }\n",
       "\n",
       "    .dataframe thead th {\n",
       "        text-align: right;\n",
       "    }\n",
       "</style>\n",
       "<table border=\"1\" class=\"dataframe\">\n",
       "  <thead>\n",
       "    <tr style=\"text-align: right;\">\n",
       "      <th></th>\n",
       "      <th>feature_0</th>\n",
       "      <th>feature_1</th>\n",
       "      <th>feature_2</th>\n",
       "      <th>feature_3</th>\n",
       "      <th>feature_4</th>\n",
       "      <th>feature_5</th>\n",
       "      <th>feature_6</th>\n",
       "      <th>feature_7</th>\n",
       "      <th>feature_8</th>\n",
       "      <th>feature_9</th>\n",
       "      <th>feature_10</th>\n",
       "      <th>feature_11</th>\n",
       "      <th>feature_12</th>\n",
       "      <th>feature_13</th>\n",
       "      <th>feature_14</th>\n",
       "      <th>feature_15</th>\n",
       "      <th>feature_16</th>\n",
       "      <th>feature_17</th>\n",
       "      <th>feature_18</th>\n",
       "      <th>feature_19</th>\n",
       "      <th>feature_20</th>\n",
       "      <th>feature_21</th>\n",
       "      <th>feature_22</th>\n",
       "      <th>feature_23</th>\n",
       "      <th>feature_24</th>\n",
       "      <th>feature_25</th>\n",
       "      <th>feature_26</th>\n",
       "      <th>feature_27</th>\n",
       "      <th>feature_28</th>\n",
       "      <th>feature_29</th>\n",
       "      <th>feature_30</th>\n",
       "      <th>feature_31</th>\n",
       "      <th>feature_32</th>\n",
       "      <th>feature_33</th>\n",
       "      <th>feature_34</th>\n",
       "      <th>feature_35</th>\n",
       "      <th>feature_36</th>\n",
       "      <th>feature_37</th>\n",
       "      <th>feature_38</th>\n",
       "      <th>feature_39</th>\n",
       "      <th>feature_40</th>\n",
       "      <th>feature_41</th>\n",
       "      <th>feature_42</th>\n",
       "      <th>feature_43</th>\n",
       "      <th>feature_44</th>\n",
       "      <th>feature_45</th>\n",
       "      <th>feature_46</th>\n",
       "      <th>feature_47</th>\n",
       "      <th>feature_48</th>\n",
       "      <th>feature_49</th>\n",
       "      <th>feature_50</th>\n",
       "      <th>feature_51</th>\n",
       "      <th>feature_52</th>\n",
       "      <th>feature_53</th>\n",
       "      <th>feature_54</th>\n",
       "      <th>feature_55</th>\n",
       "      <th>feature_56</th>\n",
       "      <th>feature_57</th>\n",
       "      <th>feature_58</th>\n",
       "      <th>feature_59</th>\n",
       "      <th>feature_60</th>\n",
       "      <th>feature_61</th>\n",
       "      <th>feature_62</th>\n",
       "      <th>feature_63</th>\n",
       "      <th>feature_64</th>\n",
       "      <th>feature_65</th>\n",
       "      <th>feature_66</th>\n",
       "      <th>feature_67</th>\n",
       "      <th>feature_68</th>\n",
       "      <th>feature_69</th>\n",
       "      <th>feature_70</th>\n",
       "      <th>feature_71</th>\n",
       "      <th>feature_72</th>\n",
       "      <th>feature_73</th>\n",
       "      <th>feature_74</th>\n",
       "    </tr>\n",
       "  </thead>\n",
       "  <tbody>\n",
       "    <tr>\n",
       "      <th>0</th>\n",
       "      <td>0</td>\n",
       "      <td>0</td>\n",
       "      <td>0</td>\n",
       "      <td>4</td>\n",
       "      <td>0</td>\n",
       "      <td>0</td>\n",
       "      <td>0</td>\n",
       "      <td>0</td>\n",
       "      <td>0</td>\n",
       "      <td>0</td>\n",
       "      <td>0</td>\n",
       "      <td>0</td>\n",
       "      <td>6</td>\n",
       "      <td>0</td>\n",
       "      <td>0</td>\n",
       "      <td>0</td>\n",
       "      <td>0</td>\n",
       "      <td>0</td>\n",
       "      <td>0</td>\n",
       "      <td>0</td>\n",
       "      <td>2</td>\n",
       "      <td>0</td>\n",
       "      <td>0</td>\n",
       "      <td>0</td>\n",
       "      <td>0</td>\n",
       "      <td>2</td>\n",
       "      <td>0</td>\n",
       "      <td>0</td>\n",
       "      <td>0</td>\n",
       "      <td>0</td>\n",
       "      <td>0</td>\n",
       "      <td>0</td>\n",
       "      <td>0</td>\n",
       "      <td>3</td>\n",
       "      <td>1</td>\n",
       "      <td>0</td>\n",
       "      <td>2</td>\n",
       "      <td>0</td>\n",
       "      <td>2</td>\n",
       "      <td>0</td>\n",
       "      <td>1</td>\n",
       "      <td>0</td>\n",
       "      <td>0</td>\n",
       "      <td>0</td>\n",
       "      <td>0</td>\n",
       "      <td>0</td>\n",
       "      <td>0</td>\n",
       "      <td>0</td>\n",
       "      <td>0</td>\n",
       "      <td>0</td>\n",
       "      <td>0</td>\n",
       "      <td>1</td>\n",
       "      <td>0</td>\n",
       "      <td>0</td>\n",
       "      <td>1</td>\n",
       "      <td>0</td>\n",
       "      <td>0</td>\n",
       "      <td>0</td>\n",
       "      <td>0</td>\n",
       "      <td>0</td>\n",
       "      <td>2</td>\n",
       "      <td>0</td>\n",
       "      <td>0</td>\n",
       "      <td>1</td>\n",
       "      <td>0</td>\n",
       "      <td>0</td>\n",
       "      <td>0</td>\n",
       "      <td>1</td>\n",
       "      <td>0</td>\n",
       "      <td>1</td>\n",
       "      <td>0</td>\n",
       "      <td>0</td>\n",
       "      <td>0</td>\n",
       "      <td>0</td>\n",
       "      <td>0</td>\n",
       "    </tr>\n",
       "    <tr>\n",
       "      <th>1</th>\n",
       "      <td>0</td>\n",
       "      <td>0</td>\n",
       "      <td>10</td>\n",
       "      <td>35</td>\n",
       "      <td>2</td>\n",
       "      <td>0</td>\n",
       "      <td>0</td>\n",
       "      <td>1</td>\n",
       "      <td>10</td>\n",
       "      <td>0</td>\n",
       "      <td>0</td>\n",
       "      <td>0</td>\n",
       "      <td>0</td>\n",
       "      <td>0</td>\n",
       "      <td>0</td>\n",
       "      <td>0</td>\n",
       "      <td>5</td>\n",
       "      <td>2</td>\n",
       "      <td>3</td>\n",
       "      <td>23</td>\n",
       "      <td>0</td>\n",
       "      <td>0</td>\n",
       "      <td>0</td>\n",
       "      <td>0</td>\n",
       "      <td>0</td>\n",
       "      <td>1</td>\n",
       "      <td>1</td>\n",
       "      <td>0</td>\n",
       "      <td>0</td>\n",
       "      <td>0</td>\n",
       "      <td>9</td>\n",
       "      <td>1</td>\n",
       "      <td>0</td>\n",
       "      <td>1</td>\n",
       "      <td>0</td>\n",
       "      <td>2</td>\n",
       "      <td>0</td>\n",
       "      <td>3</td>\n",
       "      <td>0</td>\n",
       "      <td>8</td>\n",
       "      <td>0</td>\n",
       "      <td>0</td>\n",
       "      <td>1</td>\n",
       "      <td>45</td>\n",
       "      <td>0</td>\n",
       "      <td>0</td>\n",
       "      <td>1</td>\n",
       "      <td>0</td>\n",
       "      <td>2</td>\n",
       "      <td>0</td>\n",
       "      <td>10</td>\n",
       "      <td>0</td>\n",
       "      <td>0</td>\n",
       "      <td>1</td>\n",
       "      <td>1</td>\n",
       "      <td>0</td>\n",
       "      <td>1</td>\n",
       "      <td>0</td>\n",
       "      <td>0</td>\n",
       "      <td>0</td>\n",
       "      <td>0</td>\n",
       "      <td>2</td>\n",
       "      <td>0</td>\n",
       "      <td>0</td>\n",
       "      <td>0</td>\n",
       "      <td>1</td>\n",
       "      <td>0</td>\n",
       "      <td>4</td>\n",
       "      <td>1</td>\n",
       "      <td>0</td>\n",
       "      <td>26</td>\n",
       "      <td>0</td>\n",
       "      <td>0</td>\n",
       "      <td>0</td>\n",
       "      <td>0</td>\n",
       "    </tr>\n",
       "    <tr>\n",
       "      <th>2</th>\n",
       "      <td>3</td>\n",
       "      <td>0</td>\n",
       "      <td>4</td>\n",
       "      <td>20</td>\n",
       "      <td>0</td>\n",
       "      <td>7</td>\n",
       "      <td>0</td>\n",
       "      <td>1</td>\n",
       "      <td>1</td>\n",
       "      <td>0</td>\n",
       "      <td>1</td>\n",
       "      <td>0</td>\n",
       "      <td>2</td>\n",
       "      <td>0</td>\n",
       "      <td>1</td>\n",
       "      <td>9</td>\n",
       "      <td>22</td>\n",
       "      <td>0</td>\n",
       "      <td>1</td>\n",
       "      <td>0</td>\n",
       "      <td>19</td>\n",
       "      <td>2</td>\n",
       "      <td>0</td>\n",
       "      <td>0</td>\n",
       "      <td>0</td>\n",
       "      <td>4</td>\n",
       "      <td>0</td>\n",
       "      <td>0</td>\n",
       "      <td>0</td>\n",
       "      <td>0</td>\n",
       "      <td>0</td>\n",
       "      <td>1</td>\n",
       "      <td>0</td>\n",
       "      <td>1</td>\n",
       "      <td>0</td>\n",
       "      <td>4</td>\n",
       "      <td>0</td>\n",
       "      <td>10</td>\n",
       "      <td>0</td>\n",
       "      <td>3</td>\n",
       "      <td>26</td>\n",
       "      <td>3</td>\n",
       "      <td>1</td>\n",
       "      <td>1</td>\n",
       "      <td>1</td>\n",
       "      <td>5</td>\n",
       "      <td>0</td>\n",
       "      <td>3</td>\n",
       "      <td>0</td>\n",
       "      <td>0</td>\n",
       "      <td>3</td>\n",
       "      <td>2</td>\n",
       "      <td>2</td>\n",
       "      <td>7</td>\n",
       "      <td>0</td>\n",
       "      <td>0</td>\n",
       "      <td>6</td>\n",
       "      <td>4</td>\n",
       "      <td>0</td>\n",
       "      <td>6</td>\n",
       "      <td>52</td>\n",
       "      <td>0</td>\n",
       "      <td>2</td>\n",
       "      <td>2</td>\n",
       "      <td>0</td>\n",
       "      <td>0</td>\n",
       "      <td>0</td>\n",
       "      <td>1</td>\n",
       "      <td>8</td>\n",
       "      <td>0</td>\n",
       "      <td>4</td>\n",
       "      <td>1</td>\n",
       "      <td>0</td>\n",
       "      <td>2</td>\n",
       "      <td>0</td>\n",
       "    </tr>\n",
       "    <tr>\n",
       "      <th>3</th>\n",
       "      <td>0</td>\n",
       "      <td>2</td>\n",
       "      <td>1</td>\n",
       "      <td>1</td>\n",
       "      <td>1</td>\n",
       "      <td>0</td>\n",
       "      <td>0</td>\n",
       "      <td>0</td>\n",
       "      <td>5</td>\n",
       "      <td>2</td>\n",
       "      <td>1</td>\n",
       "      <td>0</td>\n",
       "      <td>5</td>\n",
       "      <td>2</td>\n",
       "      <td>1</td>\n",
       "      <td>0</td>\n",
       "      <td>3</td>\n",
       "      <td>0</td>\n",
       "      <td>2</td>\n",
       "      <td>0</td>\n",
       "      <td>0</td>\n",
       "      <td>4</td>\n",
       "      <td>0</td>\n",
       "      <td>0</td>\n",
       "      <td>0</td>\n",
       "      <td>3</td>\n",
       "      <td>0</td>\n",
       "      <td>0</td>\n",
       "      <td>1</td>\n",
       "      <td>1</td>\n",
       "      <td>0</td>\n",
       "      <td>3</td>\n",
       "      <td>0</td>\n",
       "      <td>1</td>\n",
       "      <td>2</td>\n",
       "      <td>4</td>\n",
       "      <td>6</td>\n",
       "      <td>4</td>\n",
       "      <td>0</td>\n",
       "      <td>3</td>\n",
       "      <td>1</td>\n",
       "      <td>1</td>\n",
       "      <td>0</td>\n",
       "      <td>4</td>\n",
       "      <td>1</td>\n",
       "      <td>0</td>\n",
       "      <td>2</td>\n",
       "      <td>0</td>\n",
       "      <td>1</td>\n",
       "      <td>0</td>\n",
       "      <td>2</td>\n",
       "      <td>40</td>\n",
       "      <td>0</td>\n",
       "      <td>6</td>\n",
       "      <td>1</td>\n",
       "      <td>4</td>\n",
       "      <td>3</td>\n",
       "      <td>0</td>\n",
       "      <td>1</td>\n",
       "      <td>0</td>\n",
       "      <td>0</td>\n",
       "      <td>0</td>\n",
       "      <td>42</td>\n",
       "      <td>0</td>\n",
       "      <td>0</td>\n",
       "      <td>6</td>\n",
       "      <td>4</td>\n",
       "      <td>0</td>\n",
       "      <td>3</td>\n",
       "      <td>0</td>\n",
       "      <td>0</td>\n",
       "      <td>0</td>\n",
       "      <td>1</td>\n",
       "      <td>0</td>\n",
       "      <td>0</td>\n",
       "    </tr>\n",
       "    <tr>\n",
       "      <th>4</th>\n",
       "      <td>0</td>\n",
       "      <td>4</td>\n",
       "      <td>2</td>\n",
       "      <td>4</td>\n",
       "      <td>0</td>\n",
       "      <td>2</td>\n",
       "      <td>1</td>\n",
       "      <td>0</td>\n",
       "      <td>0</td>\n",
       "      <td>0</td>\n",
       "      <td>0</td>\n",
       "      <td>0</td>\n",
       "      <td>3</td>\n",
       "      <td>0</td>\n",
       "      <td>0</td>\n",
       "      <td>1</td>\n",
       "      <td>1</td>\n",
       "      <td>0</td>\n",
       "      <td>0</td>\n",
       "      <td>6</td>\n",
       "      <td>3</td>\n",
       "      <td>25</td>\n",
       "      <td>16</td>\n",
       "      <td>0</td>\n",
       "      <td>0</td>\n",
       "      <td>2</td>\n",
       "      <td>2</td>\n",
       "      <td>0</td>\n",
       "      <td>1</td>\n",
       "      <td>1</td>\n",
       "      <td>1</td>\n",
       "      <td>0</td>\n",
       "      <td>0</td>\n",
       "      <td>2</td>\n",
       "      <td>3</td>\n",
       "      <td>1</td>\n",
       "      <td>18</td>\n",
       "      <td>1</td>\n",
       "      <td>0</td>\n",
       "      <td>0</td>\n",
       "      <td>1</td>\n",
       "      <td>0</td>\n",
       "      <td>0</td>\n",
       "      <td>9</td>\n",
       "      <td>0</td>\n",
       "      <td>0</td>\n",
       "      <td>0</td>\n",
       "      <td>0</td>\n",
       "      <td>1</td>\n",
       "      <td>0</td>\n",
       "      <td>0</td>\n",
       "      <td>1</td>\n",
       "      <td>0</td>\n",
       "      <td>1</td>\n",
       "      <td>15</td>\n",
       "      <td>4</td>\n",
       "      <td>3</td>\n",
       "      <td>0</td>\n",
       "      <td>0</td>\n",
       "      <td>0</td>\n",
       "      <td>0</td>\n",
       "      <td>0</td>\n",
       "      <td>0</td>\n",
       "      <td>0</td>\n",
       "      <td>0</td>\n",
       "      <td>0</td>\n",
       "      <td>0</td>\n",
       "      <td>0</td>\n",
       "      <td>0</td>\n",
       "      <td>0</td>\n",
       "      <td>0</td>\n",
       "      <td>1</td>\n",
       "      <td>0</td>\n",
       "      <td>0</td>\n",
       "      <td>0</td>\n",
       "    </tr>\n",
       "  </tbody>\n",
       "</table>\n",
       "</div>"
      ],
      "text/plain": [
       "   feature_0  feature_1  feature_2  ...  feature_72  feature_73  feature_74\n",
       "0          0          0          0  ...           0           0           0\n",
       "1          0          0         10  ...           0           0           0\n",
       "2          3          0          4  ...           0           2           0\n",
       "3          0          2          1  ...           1           0           0\n",
       "4          0          4          2  ...           0           0           0\n",
       "\n",
       "[5 rows x 75 columns]"
      ]
     },
     "execution_count": 14,
     "metadata": {},
     "output_type": "execute_result"
    }
   ],
   "source": [
    "print(y)\n",
    "X_full.head()"
   ]
  },
  {
   "cell_type": "markdown",
   "id": "7c61e1b6",
   "metadata": {},
   "source": [
    "## 3. Split the entire dataset into train and test"
   ]
  },
  {
   "cell_type": "code",
   "execution_count": 15,
   "id": "63248431",
   "metadata": {},
   "outputs": [
    {
     "name": "stdout",
     "output_type": "stream",
     "text": [
      "There are 2000 observations in the training set and 158000 in the test set\n",
      "Each sample has 75 features\n"
     ]
    }
   ],
   "source": [
    "X_train, X_test, y_train, y_test = train_test_split(X_full, y, train_size=train_size, random_state=random_state)\n",
    "print(f'There are {X_train.shape[0]} observations in the training set and {X_test.shape[0]} in the test set')\n",
    "print('Each sample has {} features'.format(X_full.shape[1]))"
   ]
  },
  {
   "cell_type": "code",
   "execution_count": 16,
   "id": "70ad48a7",
   "metadata": {},
   "outputs": [
    {
     "name": "stdout",
     "output_type": "stream",
     "text": [
      "The number of trials for each model are: {'dt': 38, 'rf': 56}\n"
     ]
    }
   ],
   "source": [
    "from sklearn.model_selection import ParameterGrid\n",
    "\n",
    "trials = {lbl: len(list(ParameterGrid(models[lbl]['param']))) for lbl in model_lbls}\n",
    "print(f'The number of trials for each model are: {trials}')"
   ]
  },
  {
   "cell_type": "markdown",
   "id": "cb4a290e",
   "metadata": {},
   "source": [
    "## 4. Prepare a data frame to collect the results and a list to store all the estimators that will be fitted"
   ]
  },
  {
   "cell_type": "code",
   "execution_count": 19,
   "id": "7cf41f29",
   "metadata": {},
   "outputs": [],
   "source": [
    "clsf=[]\n",
    "results=pd.DataFrame(columns=['dataset', 'model', 'best_params', 'accuracy', 'precision_macro', 'recall_macro', 'f1_macro'])\n"
   ]
  },
  {
   "cell_type": "markdown",
   "id": "eea1ad9e",
   "metadata": {},
   "source": [
    "## 5. train classifiers with the entire dataset"
   ]
  },
  {
   "cell_type": "code",
   "execution_count": 17,
   "id": "eb4ea18c",
   "metadata": {},
   "outputs": [],
   "source": [
    "dataset = 'full' #"
   ]
  },
  {
   "cell_type": "code",
   "execution_count": 22,
   "id": "cc9af058",
   "metadata": {},
   "outputs": [],
   "source": [
    "for m in model_lbls:\n",
    "    clf=GridSearchCV(models[m]['estimator'], models[m]['param'], cv=cv, scoring=scoring)\n",
    "    clf.fit(X_train, y_train)\n",
    "    clsf.append(clf)\n",
    "    y_true, y_pred= y_test, clf.predict(X_test)\n",
    "    #y_preds.append(y_pred)\n",
    "    cr= classification_report(y_true, y_pred, output_dict=True, zero_division=1)\n",
    "    results.loc[len(results)]=[dataset, models[m]['name'], clf.best_params_, cr['accuracy'], cr['macro avg']['precision'], cr['macro avg']['recall'], cr['macro avg']['f1-score']]  "
   ]
  },
  {
   "cell_type": "code",
   "execution_count": 24,
   "id": "a8aa41d9",
   "metadata": {},
   "outputs": [
    {
     "data": {
      "text/html": [
       "<style type=\"text/css\">\n",
       "</style>\n",
       "<table id=\"T_084e9\">\n",
       "  <caption>Results for dataset full</caption>\n",
       "  <thead>\n",
       "    <tr>\n",
       "      <th class=\"blank level0\" >&nbsp;</th>\n",
       "      <th id=\"T_084e9_level0_col0\" class=\"col_heading level0 col0\" >model</th>\n",
       "      <th id=\"T_084e9_level0_col1\" class=\"col_heading level0 col1\" >best_params</th>\n",
       "      <th id=\"T_084e9_level0_col2\" class=\"col_heading level0 col2\" >accuracy</th>\n",
       "      <th id=\"T_084e9_level0_col3\" class=\"col_heading level0 col3\" >precision_macro</th>\n",
       "      <th id=\"T_084e9_level0_col4\" class=\"col_heading level0 col4\" >recall_macro</th>\n",
       "      <th id=\"T_084e9_level0_col5\" class=\"col_heading level0 col5\" >f1_macro</th>\n",
       "    </tr>\n",
       "  </thead>\n",
       "  <tbody>\n",
       "    <tr>\n",
       "      <th id=\"T_084e9_level0_row0\" class=\"row_heading level0 row0\" >0</th>\n",
       "      <td id=\"T_084e9_row0_col0\" class=\"data row0 col0\" >dt</td>\n",
       "      <td id=\"T_084e9_row0_col1\" class=\"data row0 col1\" >{'class_weight': None, 'max_depth': 11}</td>\n",
       "      <td id=\"T_084e9_row0_col2\" class=\"data row0 col2\" >0.260</td>\n",
       "      <td id=\"T_084e9_row0_col3\" class=\"data row0 col3\" >0.146</td>\n",
       "      <td id=\"T_084e9_row0_col4\" class=\"data row0 col4\" >0.153</td>\n",
       "      <td id=\"T_084e9_row0_col5\" class=\"data row0 col5\" >0.147</td>\n",
       "    </tr>\n",
       "    <tr>\n",
       "      <th id=\"T_084e9_level0_row1\" class=\"row_heading level0 row1\" >1</th>\n",
       "      <td id=\"T_084e9_row1_col0\" class=\"data row1 col0\" >rf</td>\n",
       "      <td id=\"T_084e9_row1_col1\" class=\"data row1 col1\" >{'class_weight': 'balanced', 'max_depth': 8, 'n_estimators': 15}</td>\n",
       "      <td id=\"T_084e9_row1_col2\" class=\"data row1 col2\" >0.259</td>\n",
       "      <td id=\"T_084e9_row1_col3\" class=\"data row1 col3\" >0.159</td>\n",
       "      <td id=\"T_084e9_row1_col4\" class=\"data row1 col4\" >0.169</td>\n",
       "      <td id=\"T_084e9_row1_col5\" class=\"data row1 col5\" >0.159</td>\n",
       "    </tr>\n",
       "    <tr>\n",
       "      <th id=\"T_084e9_level0_row2\" class=\"row_heading level0 row2\" >2</th>\n",
       "      <td id=\"T_084e9_row2_col0\" class=\"data row2 col0\" >Decision Tree</td>\n",
       "      <td id=\"T_084e9_row2_col1\" class=\"data row2 col1\" >{'class_weight': None, 'max_depth': 11}</td>\n",
       "      <td id=\"T_084e9_row2_col2\" class=\"data row2 col2\" >0.260</td>\n",
       "      <td id=\"T_084e9_row2_col3\" class=\"data row2 col3\" >0.146</td>\n",
       "      <td id=\"T_084e9_row2_col4\" class=\"data row2 col4\" >0.153</td>\n",
       "      <td id=\"T_084e9_row2_col5\" class=\"data row2 col5\" >0.147</td>\n",
       "    </tr>\n",
       "    <tr>\n",
       "      <th id=\"T_084e9_level0_row3\" class=\"row_heading level0 row3\" >3</th>\n",
       "      <td id=\"T_084e9_row3_col0\" class=\"data row3 col0\" >Random forest</td>\n",
       "      <td id=\"T_084e9_row3_col1\" class=\"data row3 col1\" >{'class_weight': 'balanced', 'max_depth': 8, 'n_estimators': 15}</td>\n",
       "      <td id=\"T_084e9_row3_col2\" class=\"data row3 col2\" >0.259</td>\n",
       "      <td id=\"T_084e9_row3_col3\" class=\"data row3 col3\" >0.159</td>\n",
       "      <td id=\"T_084e9_row3_col4\" class=\"data row3 col4\" >0.169</td>\n",
       "      <td id=\"T_084e9_row3_col5\" class=\"data row3 col5\" >0.159</td>\n",
       "    </tr>\n",
       "  </tbody>\n",
       "</table>\n"
      ],
      "text/plain": [
       "<pandas.io.formats.style.Styler at 0x1da2bf91fd0>"
      ]
     },
     "metadata": {},
     "output_type": "display_data"
    }
   ],
   "source": [
    "display(results[results.dataset==dataset]\\\n",
    "        .drop('dataset', axis=1)\\\n",
    "            .style.format(precision=3)\\\n",
    "                .set_caption('Results for dataset {}'.format(dataset)))"
   ]
  },
  {
   "cell_type": "markdown",
   "id": "e2cad3cf",
   "metadata": {},
   "source": [
    "## 6. Try unsupervised feature selection: \n",
    "- use `PCA` to keep only the transformed features able to explain, cumulatively, approximately 80% of the total variance\n",
    "- execute the transformation of the feature part: the new dataset has the same number of features as the original one\n",
    "- show the explained variance for each transformed features\n",
    "    - new features are sorted for decreasing explained variance"
   ]
  },
  {
   "cell_type": "code",
   "execution_count": null,
   "id": "1e51a5dc",
   "metadata": {
    "colab": {
     "base_uri": "https://localhost:8080/",
     "height": 453
    },
    "id": "1e51a5dc",
    "outputId": "97efa628-dc4d-42a5-c79e-c4bcf5b13b04"
   },
   "outputs": [],
   "source": []
  },
  {
   "cell_type": "code",
   "execution_count": null,
   "id": "256539ef",
   "metadata": {
    "colab": {
     "base_uri": "https://localhost:8080/"
    },
    "id": "256539ef",
    "outputId": "fb4561fb-b1e8-47dc-acff-fe0b1814e894"
   },
   "outputs": [],
   "source": []
  },
  {
   "cell_type": "markdown",
   "id": "ba759f20",
   "metadata": {},
   "source": [
    "## 8. Split the dataset reduced with PCA into train and test"
   ]
  },
  {
   "cell_type": "code",
   "execution_count": null,
   "id": "6bd36e73",
   "metadata": {
    "colab": {
     "base_uri": "https://localhost:8080/"
    },
    "id": "6bd36e73",
    "outputId": "bce29b8f-f7df-4782-f6b6-df20f68d89ea"
   },
   "outputs": [],
   "source": []
  },
  {
   "cell_type": "markdown",
   "id": "22bb25fc",
   "metadata": {},
   "source": [
    "## 9. Train and test the dataset reduced with PCA"
   ]
  },
  {
   "cell_type": "code",
   "execution_count": null,
   "id": "c1457a0e",
   "metadata": {
    "id": "c1457a0e"
   },
   "outputs": [],
   "source": []
  },
  {
   "cell_type": "code",
   "execution_count": null,
   "id": "0e72be9b",
   "metadata": {
    "colab": {
     "base_uri": "https://localhost:8080/",
     "height": 241
    },
    "id": "0e72be9b",
    "outputId": "680f0fa7-b564-4038-95dc-785920e84184"
   },
   "outputs": [],
   "source": []
  },
  {
   "cell_type": "code",
   "execution_count": null,
   "id": "1268d88e",
   "metadata": {},
   "outputs": [],
   "source": []
  },
  {
   "cell_type": "markdown",
   "id": "ded70270",
   "metadata": {},
   "source": [
    "## 10. try supervised feature selection \n",
    "use `SelectKBest` as selector and `mutual_info_classif` as estimator of the relationship between each feature and the target"
   ]
  },
  {
   "cell_type": "markdown",
   "id": "d180ef14",
   "metadata": {},
   "source": [
    "## 11. Split into train and test and set the number of features to select as the number of features in `X_pca`"
   ]
  },
  {
   "cell_type": "code",
   "execution_count": null,
   "id": "d22c0ab2",
   "metadata": {},
   "outputs": [],
   "source": []
  },
  {
   "cell_type": "markdown",
   "id": "40b7952c",
   "metadata": {},
   "source": [
    "## 12. fit and transform the data\n",
    "- fit and transform with the selector using `X_train`\n",
    "- transform `X_test` using the fitted selector"
   ]
  },
  {
   "cell_type": "code",
   "execution_count": null,
   "id": "c6e80b82",
   "metadata": {},
   "outputs": [],
   "source": []
  },
  {
   "cell_type": "markdown",
   "id": "8c58b8e8",
   "metadata": {},
   "source": [
    "## 13. Train and test"
   ]
  },
  {
   "cell_type": "code",
   "execution_count": null,
   "id": "39335ed7",
   "metadata": {},
   "outputs": [],
   "source": []
  },
  {
   "cell_type": "markdown",
   "id": "dc4c6e61",
   "metadata": {},
   "source": [
    "## 14. Show the results"
   ]
  },
  {
   "cell_type": "code",
   "execution_count": null,
   "id": "4b6dc7ab",
   "metadata": {},
   "outputs": [],
   "source": []
  },
  {
   "cell_type": "code",
   "execution_count": null,
   "id": "804b8da3",
   "metadata": {},
   "outputs": [],
   "source": []
  },
  {
   "cell_type": "code",
   "execution_count": null,
   "id": "a0d58e45",
   "metadata": {},
   "outputs": [],
   "source": []
  },
  {
   "cell_type": "markdown",
   "id": "2444a8d4",
   "metadata": {},
   "source": [
    "## Comment\n",
    "Random Forest gives always the best result for `f1_macro` score, and the numbers are very similar (the difference is in the third decimal).\n",
    "\n",
    "On the other hand, the solution with the `reduced_SelectKBest` has the best accuracy, for this reason we choose number 5 as the final solution"
   ]
  },
  {
   "cell_type": "code",
   "execution_count": 18,
   "id": "f270c40f",
   "metadata": {},
   "outputs": [
    {
     "ename": "NameError",
     "evalue": "name 'results' is not defined",
     "output_type": "error",
     "traceback": [
      "\u001b[1;31m---------------------------------------------------------------------------\u001b[0m",
      "\u001b[1;31mNameError\u001b[0m                                 Traceback (most recent call last)",
      "Cell \u001b[1;32mIn[18], line 2\u001b[0m\n\u001b[0;32m      1\u001b[0m model, best_params, dataset \u001b[38;5;241m=\u001b[39m \\\n\u001b[1;32m----> 2\u001b[0m     \u001b[43mresults\u001b[49m\u001b[38;5;241m.\u001b[39mloc[results[\u001b[38;5;124m'\u001b[39m\u001b[38;5;124mf1_macro\u001b[39m\u001b[38;5;124m'\u001b[39m]\u001b[38;5;241m.\u001b[39midxmax(axis\u001b[38;5;241m=\u001b[39m\u001b[38;5;241m0\u001b[39m),[\u001b[38;5;124m'\u001b[39m\u001b[38;5;124mmodel\u001b[39m\u001b[38;5;124m'\u001b[39m,\u001b[38;5;124m'\u001b[39m\u001b[38;5;124mbest_params\u001b[39m\u001b[38;5;124m'\u001b[39m,\u001b[38;5;124m'\u001b[39m\u001b[38;5;124mdataset\u001b[39m\u001b[38;5;124m'\u001b[39m]]\n\u001b[0;32m      3\u001b[0m \u001b[38;5;28mprint\u001b[39m(\u001b[38;5;124m\"\u001b[39m\u001b[38;5;124mThe best model is \u001b[39m\u001b[38;5;124m'\u001b[39m\u001b[38;5;132;01m{}\u001b[39;00m\u001b[38;5;124m'\u001b[39m\u001b[38;5;124m with the dataset \u001b[39m\u001b[38;5;124m'\u001b[39m\u001b[38;5;132;01m{}\u001b[39;00m\u001b[38;5;124m'\u001b[39m\u001b[38;5;124m and the following parameters:\u001b[39m\u001b[38;5;130;01m\\n\u001b[39;00m\u001b[38;5;124m \u001b[39m\u001b[38;5;132;01m{}\u001b[39;00m\u001b[38;5;124m\"\u001b[39m\\\n\u001b[0;32m      4\u001b[0m     \u001b[38;5;241m.\u001b[39mformat(\u001b[38;5;28mstr\u001b[39m\u001b[38;5;241m.\u001b[39mstrip(model), dataset, best_params))\n",
      "\u001b[1;31mNameError\u001b[0m: name 'results' is not defined"
     ]
    }
   ],
   "source": [
    "model, best_params, dataset = \\\n",
    "    results.loc[results['f1_macro'].idxmax(axis=0),['model','best_params','dataset']]\n",
    "print(\"The best model is '{}' with the dataset '{}' and the following parameters:\\n {}\"\\\n",
    "    .format(str.strip(model), dataset, best_params))"
   ]
  },
  {
   "cell_type": "markdown",
   "id": "258e378a",
   "metadata": {},
   "source": [
    "## 16. Final test\n",
    " - load the test data\n",
    "    - train the best model with the `X` data (possibily reduced, according to the best solution)\n",
    "    - predict for `X_final_test`\n",
    "    - show the confusion matrix and the classification report "
   ]
  },
  {
   "cell_type": "code",
   "execution_count": null,
   "id": "4294f553",
   "metadata": {},
   "outputs": [
    {
     "name": "stdout",
     "output_type": "stream",
     "text": [
      "Rows in test file 40000\n"
     ]
    }
   ],
   "source": []
  },
  {
   "cell_type": "code",
   "execution_count": null,
   "id": "1fd6cb32",
   "metadata": {},
   "outputs": [
    {
     "name": "stdout",
     "output_type": "stream",
     "text": [
      "              precision    recall  f1-score   support\n",
      "\n",
      "     Class_1       0.08      0.02      0.03      1873\n",
      "     Class_2       0.28      0.56      0.38      4884\n",
      "     Class_3       0.10      0.11      0.10      3007\n",
      "     Class_4       0.03      0.05      0.03       893\n",
      "     Class_5       0.02      0.06      0.03       625\n",
      "     Class_6       0.46      0.38      0.42     10357\n",
      "     Class_7       0.10      0.10      0.10      2926\n",
      "     Class_8       0.36      0.36      0.36     10239\n",
      "     Class_9       0.14      0.04      0.06      5196\n",
      "\n",
      "    accuracy                           0.28     40000\n",
      "   macro avg       0.17      0.19      0.17     40000\n",
      "weighted avg       0.28      0.28      0.27     40000\n",
      "\n"
     ]
    }
   ],
   "source": []
  },
  {
   "cell_type": "markdown",
   "id": "18bdcdae",
   "metadata": {},
   "source": [
    "#### Show the final confusion matrix"
   ]
  },
  {
   "cell_type": "code",
   "execution_count": null,
   "id": "45710994",
   "metadata": {},
   "outputs": [
    {
     "data": {
      "image/png": "[encoded data removed]",
      "text/plain": [
       "<Figure size 800x800 with 2 Axes>"
      ]
     },
     "metadata": {},
     "output_type": "display_data"
    }
   ],
   "source": []
  }
 ],
 "metadata": {
  "colab": {
   "provenance": []
  },
  "kernelspec": {
   "display_name": "Python 3",
   "language": "python",
   "name": "python3"
  },
  "language_info": {
   "codemirror_mode": {
    "name": "ipython",
    "version": 3
   },
   "file_extension": ".py",
   "mimetype": "text/x-python",
   "name": "python",
   "nbconvert_exporter": "python",
   "pygments_lexer": "ipython3",
   "version": "3.13.2"
  }
 },
 "nbformat": 4,
 "nbformat_minor": 5
}
