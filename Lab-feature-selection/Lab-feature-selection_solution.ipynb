{
 "cells": [
  {
   "cell_type": "markdown",
   "id": "e4784001",
   "metadata": {},
   "source": [
    "# Machine Learning lab - Attribute selection\n",
    "Source:\n",
    "- Tabular Playground Series - Jun 2021\n",
    "- https://www.kaggle.com/competitions/tabular-playground-series-jun-2021\n",
    "\n",
    "We have available \n",
    "- the data file, `data_train.csv`\n",
    "- the independent test file `data_test.csv`\n",
    "\n",
    "Workflow:\n",
    "\n",
    "1. load `data_train.csv` and do some exploration (the number of columns is not small, avoid using `pairplots`, it would be very slow and undreadable)\n",
    "1. cancel useless columns, if any, use as target the `target` column, separate predicting from target into `X_full` and `y`\n",
    "1. split `X_full` and `y` data into __train__ and __test__; since the file is quite large, for a faster development use not more than 2000 rows for training, and the remaining for testing\n",
    "1. prepare a data frame to collect the results and a list to store all the estimators that will be fitted\n",
    "1. train and test using some classification models with score `f1_score`\n",
    "    - for each classification model\n",
    "        - fit the model with cross validation and store it in the list of estimators\n",
    "        - predict with the test set, \n",
    "        - produce a classsification report and store the values in the results dataframe\n",
    "1. Try unsupervised attribute selection: use `PCA` to keep only the transformed features able to explain, cumulatively, approximately 80% of the total variance\n",
    "1. store in `X_pca` the remaining, transformed variables\n",
    "1. split the `X_pca` and y into __train__ and __test__ as in 3\n",
    "1. train and test as in 5\n",
    "1. Try supervised attrubute selection: use `SelectKBest` as selector and `mutual_info_classif` as estimator of the relationship between each feature and the target, \n",
    "1. set the `k` parameter of `SelectKBest` to the number of surviving features determined in 6, split the data into train and test\n",
    "1. fit and transform the data \n",
    "    - fit and transform with the selector using `X_train`\n",
    "    - transform `X_test` using the fitted selector\n",
    "1. train and test as in 5\n",
    "1. show the results and the confusion matrix for the best model\n",
    "1. show all the results sorted for decreasing scoring, decide which is the best solution and comment why\n",
    "1. Final test\n",
    "    - load the test data\n",
    "    - train the best model with the `X` data (possibily reduced, according to the best solution)\n",
    "    - predict for `X_final_test`\n",
    "    - show the confusion matrix and the classification report "
   ]
  },
  {
   "cell_type": "markdown",
   "id": "daab356a",
   "metadata": {},
   "source": [
    "#### Import libraries and prepare the constant values that will be used"
   ]
  },
  {
   "cell_type": "code",
   "execution_count": 2,
   "id": "804a1e82",
   "metadata": {
    "id": "804a1e82"
   },
   "outputs": [],
   "source": [
    "#Tabular Playground Series - Jun 2021\n",
    "#https://www.kaggle.com/competitions/tabular-playground-series-jun-2021\n",
    "\n",
    "\n",
    "import warnings\n",
    "warnings.filterwarnings('ignore') # uncomment this line to suppress warnings\n",
    "\n",
    "import pandas as pd\n",
    "import numpy as np\n",
    "import matplotlib.pyplot as plt\n",
    "from sklearn import datasets\n",
    "from sklearn.model_selection import train_test_split, GridSearchCV, StratifiedKFold\n",
    "from sklearn.metrics import classification_report, ConfusionMatrixDisplay\n",
    "from sklearn.tree import DecisionTreeClassifier\n",
    "from sklearn.ensemble import RandomForestClassifier\n",
    "from sklearn.decomposition import PCA\n",
    "from sklearn.preprocessing import LabelEncoder # for encoding categorical target labels\n",
    "from sklearn.feature_selection import SelectKBest # for supervised selection of best features\n",
    "                                 "
   ]
  },
  {
   "cell_type": "code",
   "execution_count": 3,
   "id": "98d485c5",
   "metadata": {},
   "outputs": [],
   "source": [
    "# constants\n",
    "file_path = \"../data/feature-selection/\" # path to the data files\n",
    "data_file = \"data_train.csv\"\n",
    "test_file = \"data_test.csv\"\n",
    "train_size = 0.0125 # train size chosen to have a few tousands of elements\n",
    "cutoff_variance = .8 # the total amount of variance explained by the selected transformed features with PCA\n",
    "cv = 5               # number of folds for cross-validation\n",
    "random_state = 42    # seed for random number generator\n",
    "np.random.seed(random_state) # this sets the random sequence. \n",
    "                             # Setting this the perfect repeatability is guaranteed\n",
    "                             # when re-execute the entire notebook"
   ]
  },
  {
   "cell_type": "code",
   "execution_count": 4,
   "id": "ffd83937",
   "metadata": {},
   "outputs": [],
   "source": [
    "# comment models for a quick test\n",
    "model_lbls = ['dt' # decision tree\n",
    "             ,'rf'   # random forest\n",
    "            ]\n",
    "\n",
    "# models to be tested with hyperparameters\n",
    "models = {\n",
    "    'dt': {'name': 'Decision Tree',\n",
    "           'estimator': DecisionTreeClassifier(random_state=random_state),\n",
    "           'param': [{'max_depth': [*range(1,20)],'class_weight':[None,'balanced']}],\n",
    "          },\n",
    "    'rf': {'name': 'Random forest',\n",
    "           'estimator': RandomForestClassifier(random_state=random_state),\n",
    "           'param': [{\n",
    "                      # 'max_depth': [*range(4,30)]\n",
    "                      'max_depth': [*range(4,30,4)]\n",
    "                    #  ,'n_estimators':[*range(20,80,5)]\n",
    "                     ,'n_estimators':[*range(10,30,5)]\n",
    "                     ,'class_weight': [None,'balanced']\n",
    "                      }]\n",
    "          }\n",
    "\n",
    "}\n",
    "\n",
    "scoring = 'f1_macro'\n"
   ]
  },
  {
   "cell_type": "markdown",
   "id": "b3545526",
   "metadata": {},
   "source": [
    "## 1. load the data\n",
    "Do also some exploration: show the size, the description and the number of unique values in features, in order to catch possibile identifiers to be dropped"
   ]
  },
  {
   "cell_type": "code",
   "execution_count": 5,
   "id": "a85b4963",
   "metadata": {},
   "outputs": [
    {
     "name": "stdout",
     "output_type": "stream",
     "text": [
      "Shape of the data (160000, 77)\n"
     ]
    }
   ],
   "source": [
    "df = pd.read_csv(file_path+data_file)\n",
    "print(\"Shape of the data {}\".format(df.shape))"
   ]
  },
  {
   "cell_type": "code",
   "execution_count": 6,
   "id": "9a69fcdf",
   "metadata": {
    "colab": {
     "base_uri": "https://localhost:8080/",
     "height": 412
    },
    "id": "9a69fcdf",
    "outputId": "2a1b9d8d-db9f-4a84-9d8b-6acac711ae46"
   },
   "outputs": [
    {
     "data": {
      "text/html": [
       "<div>\n",
       "<style scoped>\n",
       "    .dataframe tbody tr th:only-of-type {\n",
       "        vertical-align: middle;\n",
       "    }\n",
       "\n",
       "    .dataframe tbody tr th {\n",
       "        vertical-align: top;\n",
       "    }\n",
       "\n",
       "    .dataframe thead th {\n",
       "        text-align: right;\n",
       "    }\n",
       "</style>\n",
       "<table border=\"1\" class=\"dataframe\">\n",
       "  <thead>\n",
       "    <tr style=\"text-align: right;\">\n",
       "      <th></th>\n",
       "      <th>id</th>\n",
       "      <th>feature_0</th>\n",
       "      <th>feature_1</th>\n",
       "      <th>feature_2</th>\n",
       "      <th>feature_3</th>\n",
       "      <th>feature_4</th>\n",
       "      <th>feature_5</th>\n",
       "      <th>feature_6</th>\n",
       "      <th>feature_7</th>\n",
       "      <th>feature_8</th>\n",
       "      <th>...</th>\n",
       "      <th>feature_66</th>\n",
       "      <th>feature_67</th>\n",
       "      <th>feature_68</th>\n",
       "      <th>feature_69</th>\n",
       "      <th>feature_70</th>\n",
       "      <th>feature_71</th>\n",
       "      <th>feature_72</th>\n",
       "      <th>feature_73</th>\n",
       "      <th>feature_74</th>\n",
       "      <th>target</th>\n",
       "    </tr>\n",
       "  </thead>\n",
       "  <tbody>\n",
       "    <tr>\n",
       "      <th>120476</th>\n",
       "      <td>69762</td>\n",
       "      <td>0</td>\n",
       "      <td>0</td>\n",
       "      <td>0</td>\n",
       "      <td>16</td>\n",
       "      <td>0</td>\n",
       "      <td>6</td>\n",
       "      <td>0</td>\n",
       "      <td>0</td>\n",
       "      <td>0</td>\n",
       "      <td>...</td>\n",
       "      <td>0</td>\n",
       "      <td>0</td>\n",
       "      <td>0</td>\n",
       "      <td>0</td>\n",
       "      <td>0</td>\n",
       "      <td>2</td>\n",
       "      <td>0</td>\n",
       "      <td>0</td>\n",
       "      <td>0</td>\n",
       "      <td>Class_8</td>\n",
       "    </tr>\n",
       "    <tr>\n",
       "      <th>32693</th>\n",
       "      <td>23274</td>\n",
       "      <td>1</td>\n",
       "      <td>17</td>\n",
       "      <td>0</td>\n",
       "      <td>41</td>\n",
       "      <td>2</td>\n",
       "      <td>0</td>\n",
       "      <td>0</td>\n",
       "      <td>0</td>\n",
       "      <td>1</td>\n",
       "      <td>...</td>\n",
       "      <td>6</td>\n",
       "      <td>6</td>\n",
       "      <td>19</td>\n",
       "      <td>0</td>\n",
       "      <td>3</td>\n",
       "      <td>1</td>\n",
       "      <td>1</td>\n",
       "      <td>0</td>\n",
       "      <td>1</td>\n",
       "      <td>Class_6</td>\n",
       "    </tr>\n",
       "    <tr>\n",
       "      <th>79958</th>\n",
       "      <td>160394</td>\n",
       "      <td>0</td>\n",
       "      <td>0</td>\n",
       "      <td>0</td>\n",
       "      <td>1</td>\n",
       "      <td>0</td>\n",
       "      <td>0</td>\n",
       "      <td>0</td>\n",
       "      <td>1</td>\n",
       "      <td>0</td>\n",
       "      <td>...</td>\n",
       "      <td>0</td>\n",
       "      <td>0</td>\n",
       "      <td>0</td>\n",
       "      <td>0</td>\n",
       "      <td>1</td>\n",
       "      <td>0</td>\n",
       "      <td>0</td>\n",
       "      <td>4</td>\n",
       "      <td>1</td>\n",
       "      <td>Class_6</td>\n",
       "    </tr>\n",
       "    <tr>\n",
       "      <th>76366</th>\n",
       "      <td>189455</td>\n",
       "      <td>0</td>\n",
       "      <td>0</td>\n",
       "      <td>1</td>\n",
       "      <td>5</td>\n",
       "      <td>0</td>\n",
       "      <td>0</td>\n",
       "      <td>0</td>\n",
       "      <td>1</td>\n",
       "      <td>0</td>\n",
       "      <td>...</td>\n",
       "      <td>0</td>\n",
       "      <td>0</td>\n",
       "      <td>0</td>\n",
       "      <td>2</td>\n",
       "      <td>0</td>\n",
       "      <td>0</td>\n",
       "      <td>2</td>\n",
       "      <td>0</td>\n",
       "      <td>0</td>\n",
       "      <td>Class_9</td>\n",
       "    </tr>\n",
       "    <tr>\n",
       "      <th>82343</th>\n",
       "      <td>158523</td>\n",
       "      <td>0</td>\n",
       "      <td>0</td>\n",
       "      <td>0</td>\n",
       "      <td>6</td>\n",
       "      <td>0</td>\n",
       "      <td>1</td>\n",
       "      <td>0</td>\n",
       "      <td>1</td>\n",
       "      <td>7</td>\n",
       "      <td>...</td>\n",
       "      <td>0</td>\n",
       "      <td>2</td>\n",
       "      <td>0</td>\n",
       "      <td>0</td>\n",
       "      <td>4</td>\n",
       "      <td>29</td>\n",
       "      <td>2</td>\n",
       "      <td>0</td>\n",
       "      <td>0</td>\n",
       "      <td>Class_8</td>\n",
       "    </tr>\n",
       "    <tr>\n",
       "      <th>142834</th>\n",
       "      <td>131226</td>\n",
       "      <td>0</td>\n",
       "      <td>1</td>\n",
       "      <td>1</td>\n",
       "      <td>9</td>\n",
       "      <td>0</td>\n",
       "      <td>0</td>\n",
       "      <td>0</td>\n",
       "      <td>1</td>\n",
       "      <td>0</td>\n",
       "      <td>...</td>\n",
       "      <td>0</td>\n",
       "      <td>1</td>\n",
       "      <td>0</td>\n",
       "      <td>0</td>\n",
       "      <td>1</td>\n",
       "      <td>0</td>\n",
       "      <td>0</td>\n",
       "      <td>0</td>\n",
       "      <td>0</td>\n",
       "      <td>Class_6</td>\n",
       "    </tr>\n",
       "    <tr>\n",
       "      <th>116845</th>\n",
       "      <td>32995</td>\n",
       "      <td>1</td>\n",
       "      <td>7</td>\n",
       "      <td>5</td>\n",
       "      <td>2</td>\n",
       "      <td>0</td>\n",
       "      <td>1</td>\n",
       "      <td>0</td>\n",
       "      <td>1</td>\n",
       "      <td>1</td>\n",
       "      <td>...</td>\n",
       "      <td>3</td>\n",
       "      <td>3</td>\n",
       "      <td>2</td>\n",
       "      <td>1</td>\n",
       "      <td>3</td>\n",
       "      <td>0</td>\n",
       "      <td>2</td>\n",
       "      <td>0</td>\n",
       "      <td>0</td>\n",
       "      <td>Class_3</td>\n",
       "    </tr>\n",
       "    <tr>\n",
       "      <th>159721</th>\n",
       "      <td>180219</td>\n",
       "      <td>0</td>\n",
       "      <td>0</td>\n",
       "      <td>1</td>\n",
       "      <td>0</td>\n",
       "      <td>0</td>\n",
       "      <td>6</td>\n",
       "      <td>0</td>\n",
       "      <td>0</td>\n",
       "      <td>7</td>\n",
       "      <td>...</td>\n",
       "      <td>0</td>\n",
       "      <td>0</td>\n",
       "      <td>1</td>\n",
       "      <td>5</td>\n",
       "      <td>0</td>\n",
       "      <td>5</td>\n",
       "      <td>1</td>\n",
       "      <td>0</td>\n",
       "      <td>0</td>\n",
       "      <td>Class_6</td>\n",
       "    </tr>\n",
       "    <tr>\n",
       "      <th>61783</th>\n",
       "      <td>94564</td>\n",
       "      <td>2</td>\n",
       "      <td>0</td>\n",
       "      <td>1</td>\n",
       "      <td>7</td>\n",
       "      <td>0</td>\n",
       "      <td>0</td>\n",
       "      <td>0</td>\n",
       "      <td>1</td>\n",
       "      <td>11</td>\n",
       "      <td>...</td>\n",
       "      <td>0</td>\n",
       "      <td>1</td>\n",
       "      <td>1</td>\n",
       "      <td>0</td>\n",
       "      <td>0</td>\n",
       "      <td>1</td>\n",
       "      <td>2</td>\n",
       "      <td>10</td>\n",
       "      <td>0</td>\n",
       "      <td>Class_8</td>\n",
       "    </tr>\n",
       "    <tr>\n",
       "      <th>157041</th>\n",
       "      <td>31757</td>\n",
       "      <td>0</td>\n",
       "      <td>0</td>\n",
       "      <td>0</td>\n",
       "      <td>0</td>\n",
       "      <td>0</td>\n",
       "      <td>0</td>\n",
       "      <td>0</td>\n",
       "      <td>0</td>\n",
       "      <td>0</td>\n",
       "      <td>...</td>\n",
       "      <td>0</td>\n",
       "      <td>0</td>\n",
       "      <td>0</td>\n",
       "      <td>0</td>\n",
       "      <td>0</td>\n",
       "      <td>0</td>\n",
       "      <td>0</td>\n",
       "      <td>0</td>\n",
       "      <td>0</td>\n",
       "      <td>Class_9</td>\n",
       "    </tr>\n",
       "  </tbody>\n",
       "</table>\n",
       "<p>10 rows × 77 columns</p>\n",
       "</div>"
      ],
      "text/plain": [
       "            id  feature_0  feature_1  feature_2  feature_3  feature_4  \\\n",
       "120476   69762          0          0          0         16          0   \n",
       "32693    23274          1         17          0         41          2   \n",
       "79958   160394          0          0          0          1          0   \n",
       "76366   189455          0          0          1          5          0   \n",
       "82343   158523          0          0          0          6          0   \n",
       "142834  131226          0          1          1          9          0   \n",
       "116845   32995          1          7          5          2          0   \n",
       "159721  180219          0          0          1          0          0   \n",
       "61783    94564          2          0          1          7          0   \n",
       "157041   31757          0          0          0          0          0   \n",
       "\n",
       "        feature_5  feature_6  feature_7  feature_8  ...  feature_66  \\\n",
       "120476          6          0          0          0  ...           0   \n",
       "32693           0          0          0          1  ...           6   \n",
       "79958           0          0          1          0  ...           0   \n",
       "76366           0          0          1          0  ...           0   \n",
       "82343           1          0          1          7  ...           0   \n",
       "142834          0          0          1          0  ...           0   \n",
       "116845          1          0          1          1  ...           3   \n",
       "159721          6          0          0          7  ...           0   \n",
       "61783           0          0          1         11  ...           0   \n",
       "157041          0          0          0          0  ...           0   \n",
       "\n",
       "        feature_67  feature_68  feature_69  feature_70  feature_71  \\\n",
       "120476           0           0           0           0           2   \n",
       "32693            6          19           0           3           1   \n",
       "79958            0           0           0           1           0   \n",
       "76366            0           0           2           0           0   \n",
       "82343            2           0           0           4          29   \n",
       "142834           1           0           0           1           0   \n",
       "116845           3           2           1           3           0   \n",
       "159721           0           1           5           0           5   \n",
       "61783            1           1           0           0           1   \n",
       "157041           0           0           0           0           0   \n",
       "\n",
       "        feature_72  feature_73  feature_74   target  \n",
       "120476           0           0           0  Class_8  \n",
       "32693            1           0           1  Class_6  \n",
       "79958            0           4           1  Class_6  \n",
       "76366            2           0           0  Class_9  \n",
       "82343            2           0           0  Class_8  \n",
       "142834           0           0           0  Class_6  \n",
       "116845           2           0           0  Class_3  \n",
       "159721           1           0           0  Class_6  \n",
       "61783            2          10           0  Class_8  \n",
       "157041           0           0           0  Class_9  \n",
       "\n",
       "[10 rows x 77 columns]"
      ]
     },
     "execution_count": 6,
     "metadata": {},
     "output_type": "execute_result"
    }
   ],
   "source": [
    "# show 10 random records\n",
    "df.sample(n=10, axis=0, replace=False, random_state = random_state)"
   ]
  },
  {
   "cell_type": "code",
   "execution_count": 7,
   "id": "0050d8f1",
   "metadata": {
    "id": "0050d8f1"
   },
   "outputs": [
    {
     "data": {
      "text/html": [
       "<div>\n",
       "<style scoped>\n",
       "    .dataframe tbody tr th:only-of-type {\n",
       "        vertical-align: middle;\n",
       "    }\n",
       "\n",
       "    .dataframe tbody tr th {\n",
       "        vertical-align: top;\n",
       "    }\n",
       "\n",
       "    .dataframe thead th {\n",
       "        text-align: right;\n",
       "    }\n",
       "</style>\n",
       "<table border=\"1\" class=\"dataframe\">\n",
       "  <thead>\n",
       "    <tr style=\"text-align: right;\">\n",
       "      <th></th>\n",
       "      <th>id</th>\n",
       "      <th>feature_0</th>\n",
       "      <th>feature_1</th>\n",
       "      <th>feature_2</th>\n",
       "      <th>feature_3</th>\n",
       "      <th>feature_4</th>\n",
       "      <th>feature_5</th>\n",
       "      <th>feature_6</th>\n",
       "      <th>feature_7</th>\n",
       "      <th>feature_8</th>\n",
       "      <th>...</th>\n",
       "      <th>feature_65</th>\n",
       "      <th>feature_66</th>\n",
       "      <th>feature_67</th>\n",
       "      <th>feature_68</th>\n",
       "      <th>feature_69</th>\n",
       "      <th>feature_70</th>\n",
       "      <th>feature_71</th>\n",
       "      <th>feature_72</th>\n",
       "      <th>feature_73</th>\n",
       "      <th>feature_74</th>\n",
       "    </tr>\n",
       "  </thead>\n",
       "  <tbody>\n",
       "    <tr>\n",
       "      <th>count</th>\n",
       "      <td>160000.000000</td>\n",
       "      <td>160000.000000</td>\n",
       "      <td>160000.000000</td>\n",
       "      <td>160000.000000</td>\n",
       "      <td>160000.000000</td>\n",
       "      <td>160000.000000</td>\n",
       "      <td>160000.000000</td>\n",
       "      <td>160000.000000</td>\n",
       "      <td>160000.000000</td>\n",
       "      <td>160000.000000</td>\n",
       "      <td>...</td>\n",
       "      <td>160000.000000</td>\n",
       "      <td>160000.000000</td>\n",
       "      <td>160000.000000</td>\n",
       "      <td>160000.000000</td>\n",
       "      <td>160000.000000</td>\n",
       "      <td>160000.000000</td>\n",
       "      <td>160000.000000</td>\n",
       "      <td>160000.000000</td>\n",
       "      <td>160000.000000</td>\n",
       "      <td>160000.000000</td>\n",
       "    </tr>\n",
       "    <tr>\n",
       "      <th>mean</th>\n",
       "      <td>99877.897613</td>\n",
       "      <td>0.968950</td>\n",
       "      <td>1.166888</td>\n",
       "      <td>2.228556</td>\n",
       "      <td>2.287619</td>\n",
       "      <td>0.797669</td>\n",
       "      <td>1.430650</td>\n",
       "      <td>1.010156</td>\n",
       "      <td>0.672425</td>\n",
       "      <td>1.950850</td>\n",
       "      <td>...</td>\n",
       "      <td>1.801138</td>\n",
       "      <td>0.510644</td>\n",
       "      <td>1.835100</td>\n",
       "      <td>0.913763</td>\n",
       "      <td>1.595312</td>\n",
       "      <td>1.226144</td>\n",
       "      <td>0.806444</td>\n",
       "      <td>1.294150</td>\n",
       "      <td>2.935406</td>\n",
       "      <td>0.631750</td>\n",
       "    </tr>\n",
       "    <tr>\n",
       "      <th>std</th>\n",
       "      <td>57758.706261</td>\n",
       "      <td>3.912136</td>\n",
       "      <td>4.007328</td>\n",
       "      <td>6.493048</td>\n",
       "      <td>7.525296</td>\n",
       "      <td>2.955533</td>\n",
       "      <td>5.161323</td>\n",
       "      <td>3.952009</td>\n",
       "      <td>2.229554</td>\n",
       "      <td>3.946011</td>\n",
       "      <td>...</td>\n",
       "      <td>5.052175</td>\n",
       "      <td>1.879700</td>\n",
       "      <td>7.194775</td>\n",
       "      <td>3.838913</td>\n",
       "      <td>4.842575</td>\n",
       "      <td>4.859560</td>\n",
       "      <td>2.448888</td>\n",
       "      <td>4.297699</td>\n",
       "      <td>10.765003</td>\n",
       "      <td>3.923869</td>\n",
       "    </tr>\n",
       "    <tr>\n",
       "      <th>min</th>\n",
       "      <td>0.000000</td>\n",
       "      <td>0.000000</td>\n",
       "      <td>0.000000</td>\n",
       "      <td>0.000000</td>\n",
       "      <td>0.000000</td>\n",
       "      <td>0.000000</td>\n",
       "      <td>0.000000</td>\n",
       "      <td>0.000000</td>\n",
       "      <td>0.000000</td>\n",
       "      <td>0.000000</td>\n",
       "      <td>...</td>\n",
       "      <td>0.000000</td>\n",
       "      <td>0.000000</td>\n",
       "      <td>0.000000</td>\n",
       "      <td>0.000000</td>\n",
       "      <td>0.000000</td>\n",
       "      <td>0.000000</td>\n",
       "      <td>0.000000</td>\n",
       "      <td>0.000000</td>\n",
       "      <td>0.000000</td>\n",
       "      <td>0.000000</td>\n",
       "    </tr>\n",
       "    <tr>\n",
       "      <th>25%</th>\n",
       "      <td>49801.750000</td>\n",
       "      <td>0.000000</td>\n",
       "      <td>0.000000</td>\n",
       "      <td>0.000000</td>\n",
       "      <td>0.000000</td>\n",
       "      <td>0.000000</td>\n",
       "      <td>0.000000</td>\n",
       "      <td>0.000000</td>\n",
       "      <td>0.000000</td>\n",
       "      <td>0.000000</td>\n",
       "      <td>...</td>\n",
       "      <td>0.000000</td>\n",
       "      <td>0.000000</td>\n",
       "      <td>0.000000</td>\n",
       "      <td>0.000000</td>\n",
       "      <td>0.000000</td>\n",
       "      <td>0.000000</td>\n",
       "      <td>0.000000</td>\n",
       "      <td>0.000000</td>\n",
       "      <td>0.000000</td>\n",
       "      <td>0.000000</td>\n",
       "    </tr>\n",
       "    <tr>\n",
       "      <th>50%</th>\n",
       "      <td>99768.000000</td>\n",
       "      <td>0.000000</td>\n",
       "      <td>0.000000</td>\n",
       "      <td>0.000000</td>\n",
       "      <td>0.000000</td>\n",
       "      <td>0.000000</td>\n",
       "      <td>0.000000</td>\n",
       "      <td>0.000000</td>\n",
       "      <td>0.000000</td>\n",
       "      <td>0.000000</td>\n",
       "      <td>...</td>\n",
       "      <td>0.000000</td>\n",
       "      <td>0.000000</td>\n",
       "      <td>0.000000</td>\n",
       "      <td>0.000000</td>\n",
       "      <td>0.000000</td>\n",
       "      <td>0.000000</td>\n",
       "      <td>0.000000</td>\n",
       "      <td>0.000000</td>\n",
       "      <td>0.000000</td>\n",
       "      <td>0.000000</td>\n",
       "    </tr>\n",
       "    <tr>\n",
       "      <th>75%</th>\n",
       "      <td>149957.250000</td>\n",
       "      <td>1.000000</td>\n",
       "      <td>1.000000</td>\n",
       "      <td>1.000000</td>\n",
       "      <td>1.000000</td>\n",
       "      <td>0.000000</td>\n",
       "      <td>1.000000</td>\n",
       "      <td>0.000000</td>\n",
       "      <td>0.000000</td>\n",
       "      <td>2.000000</td>\n",
       "      <td>...</td>\n",
       "      <td>1.000000</td>\n",
       "      <td>0.000000</td>\n",
       "      <td>1.000000</td>\n",
       "      <td>1.000000</td>\n",
       "      <td>2.000000</td>\n",
       "      <td>1.000000</td>\n",
       "      <td>1.000000</td>\n",
       "      <td>1.000000</td>\n",
       "      <td>1.000000</td>\n",
       "      <td>0.000000</td>\n",
       "    </tr>\n",
       "    <tr>\n",
       "      <th>max</th>\n",
       "      <td>199997.000000</td>\n",
       "      <td>61.000000</td>\n",
       "      <td>51.000000</td>\n",
       "      <td>64.000000</td>\n",
       "      <td>70.000000</td>\n",
       "      <td>38.000000</td>\n",
       "      <td>76.000000</td>\n",
       "      <td>43.000000</td>\n",
       "      <td>30.000000</td>\n",
       "      <td>38.000000</td>\n",
       "      <td>...</td>\n",
       "      <td>54.000000</td>\n",
       "      <td>24.000000</td>\n",
       "      <td>79.000000</td>\n",
       "      <td>55.000000</td>\n",
       "      <td>65.000000</td>\n",
       "      <td>67.000000</td>\n",
       "      <td>30.000000</td>\n",
       "      <td>61.000000</td>\n",
       "      <td>130.000000</td>\n",
       "      <td>52.000000</td>\n",
       "    </tr>\n",
       "  </tbody>\n",
       "</table>\n",
       "<p>8 rows × 76 columns</p>\n",
       "</div>"
      ],
      "text/plain": [
       "                  id      feature_0      feature_1      feature_2  \\\n",
       "count  160000.000000  160000.000000  160000.000000  160000.000000   \n",
       "mean    99877.897613       0.968950       1.166888       2.228556   \n",
       "std     57758.706261       3.912136       4.007328       6.493048   \n",
       "min         0.000000       0.000000       0.000000       0.000000   \n",
       "25%     49801.750000       0.000000       0.000000       0.000000   \n",
       "50%     99768.000000       0.000000       0.000000       0.000000   \n",
       "75%    149957.250000       1.000000       1.000000       1.000000   \n",
       "max    199997.000000      61.000000      51.000000      64.000000   \n",
       "\n",
       "           feature_3      feature_4      feature_5      feature_6  \\\n",
       "count  160000.000000  160000.000000  160000.000000  160000.000000   \n",
       "mean        2.287619       0.797669       1.430650       1.010156   \n",
       "std         7.525296       2.955533       5.161323       3.952009   \n",
       "min         0.000000       0.000000       0.000000       0.000000   \n",
       "25%         0.000000       0.000000       0.000000       0.000000   \n",
       "50%         0.000000       0.000000       0.000000       0.000000   \n",
       "75%         1.000000       0.000000       1.000000       0.000000   \n",
       "max        70.000000      38.000000      76.000000      43.000000   \n",
       "\n",
       "           feature_7      feature_8  ...     feature_65     feature_66  \\\n",
       "count  160000.000000  160000.000000  ...  160000.000000  160000.000000   \n",
       "mean        0.672425       1.950850  ...       1.801138       0.510644   \n",
       "std         2.229554       3.946011  ...       5.052175       1.879700   \n",
       "min         0.000000       0.000000  ...       0.000000       0.000000   \n",
       "25%         0.000000       0.000000  ...       0.000000       0.000000   \n",
       "50%         0.000000       0.000000  ...       0.000000       0.000000   \n",
       "75%         0.000000       2.000000  ...       1.000000       0.000000   \n",
       "max        30.000000      38.000000  ...      54.000000      24.000000   \n",
       "\n",
       "          feature_67     feature_68     feature_69     feature_70  \\\n",
       "count  160000.000000  160000.000000  160000.000000  160000.000000   \n",
       "mean        1.835100       0.913763       1.595312       1.226144   \n",
       "std         7.194775       3.838913       4.842575       4.859560   \n",
       "min         0.000000       0.000000       0.000000       0.000000   \n",
       "25%         0.000000       0.000000       0.000000       0.000000   \n",
       "50%         0.000000       0.000000       0.000000       0.000000   \n",
       "75%         1.000000       1.000000       2.000000       1.000000   \n",
       "max        79.000000      55.000000      65.000000      67.000000   \n",
       "\n",
       "          feature_71     feature_72     feature_73     feature_74  \n",
       "count  160000.000000  160000.000000  160000.000000  160000.000000  \n",
       "mean        0.806444       1.294150       2.935406       0.631750  \n",
       "std         2.448888       4.297699      10.765003       3.923869  \n",
       "min         0.000000       0.000000       0.000000       0.000000  \n",
       "25%         0.000000       0.000000       0.000000       0.000000  \n",
       "50%         0.000000       0.000000       0.000000       0.000000  \n",
       "75%         1.000000       1.000000       1.000000       0.000000  \n",
       "max        30.000000      61.000000     130.000000      52.000000  \n",
       "\n",
       "[8 rows x 76 columns]"
      ]
     },
     "execution_count": 7,
     "metadata": {},
     "output_type": "execute_result"
    }
   ],
   "source": [
    "df.describe()"
   ]
  },
  {
   "cell_type": "markdown",
   "id": "8ee900b1",
   "metadata": {},
   "source": [
    "### Show the number of unique values in each column: a number equal to the number of rows most likely indicates an identifier, that is useless for machine learning and should be dropped\n",
    "Showing only the biggest one in decreasing order makes easier the interpretation"
   ]
  },
  {
   "cell_type": "code",
   "execution_count": 8,
   "id": "c6679ce5",
   "metadata": {
    "colab": {
     "base_uri": "https://localhost:8080/"
    },
    "id": "c6679ce5",
    "outputId": "d2e79a76-49ec-416b-e47a-7b031a5e6f4c"
   },
   "outputs": [
    {
     "data": {
      "text/plain": [
       "id            160000\n",
       "feature_15       104\n",
       "feature_60        94\n",
       "feature_73        90\n",
       "feature_59        88\n",
       "feature_46        87\n",
       "feature_28        78\n",
       "feature_32        77\n",
       "feature_54        72\n",
       "feature_61        70\n",
       "dtype: int64"
      ]
     },
     "execution_count": 8,
     "metadata": {},
     "output_type": "execute_result"
    }
   ],
   "source": [
    "df.nunique().sort_values(ascending=False)[:10]"
   ]
  },
  {
   "cell_type": "markdown",
   "id": "0b47771a",
   "metadata": {},
   "source": [
    "#### Eplore the target"
   ]
  },
  {
   "cell_type": "code",
   "execution_count": 9,
   "id": "8f669a80",
   "metadata": {
    "colab": {
     "base_uri": "https://localhost:8080/"
    },
    "id": "8f669a80",
    "outputId": "89a4714c-67e8-4eda-cedd-de6a87272964"
   },
   "outputs": [
    {
     "name": "stdout",
     "output_type": "stream",
     "text": [
      "['Class_1' 'Class_2' 'Class_3' 'Class_4' 'Class_5' 'Class_6' 'Class_7'\n",
      " 'Class_8' 'Class_9']\n"
     ]
    }
   ],
   "source": [
    "target = 'target'\n",
    "classes = df[target].unique()\n",
    "classes.sort()\n",
    "print(classes)"
   ]
  },
  {
   "cell_type": "markdown",
   "id": "13a48fac",
   "metadata": {},
   "source": [
    "## 2. cancel useless columns, if any, prepare the features and the target \n",
    "use as target the `target` column, separate predicting from target into `X_full` and `y`"
   ]
  },
  {
   "cell_type": "code",
   "execution_count": 10,
   "id": "398f513e",
   "metadata": {
    "id": "398f513e"
   },
   "outputs": [],
   "source": [
    "X_full = df.drop(['id', target], axis=1) # drop the id and target columns\n",
    "# le = LabelEncoder()\n",
    "y = df[target] #le.fit_transform(df[target])  # target column"
   ]
  },
  {
   "cell_type": "code",
   "execution_count": 11,
   "id": "33013a1f",
   "metadata": {
    "colab": {
     "base_uri": "https://localhost:8080/",
     "height": 255
    },
    "id": "33013a1f",
    "outputId": "144dd82c-f257-409b-d30a-d1a972675ff0"
   },
   "outputs": [
    {
     "data": {
      "text/html": [
       "<div>\n",
       "<style scoped>\n",
       "    .dataframe tbody tr th:only-of-type {\n",
       "        vertical-align: middle;\n",
       "    }\n",
       "\n",
       "    .dataframe tbody tr th {\n",
       "        vertical-align: top;\n",
       "    }\n",
       "\n",
       "    .dataframe thead th {\n",
       "        text-align: right;\n",
       "    }\n",
       "</style>\n",
       "<table border=\"1\" class=\"dataframe\">\n",
       "  <thead>\n",
       "    <tr style=\"text-align: right;\">\n",
       "      <th></th>\n",
       "      <th>feature_0</th>\n",
       "      <th>feature_1</th>\n",
       "      <th>feature_2</th>\n",
       "      <th>feature_3</th>\n",
       "      <th>feature_4</th>\n",
       "      <th>feature_5</th>\n",
       "      <th>feature_6</th>\n",
       "      <th>feature_7</th>\n",
       "      <th>feature_8</th>\n",
       "      <th>feature_9</th>\n",
       "      <th>...</th>\n",
       "      <th>feature_65</th>\n",
       "      <th>feature_66</th>\n",
       "      <th>feature_67</th>\n",
       "      <th>feature_68</th>\n",
       "      <th>feature_69</th>\n",
       "      <th>feature_70</th>\n",
       "      <th>feature_71</th>\n",
       "      <th>feature_72</th>\n",
       "      <th>feature_73</th>\n",
       "      <th>feature_74</th>\n",
       "    </tr>\n",
       "  </thead>\n",
       "  <tbody>\n",
       "    <tr>\n",
       "      <th>0</th>\n",
       "      <td>0</td>\n",
       "      <td>0</td>\n",
       "      <td>0</td>\n",
       "      <td>4</td>\n",
       "      <td>0</td>\n",
       "      <td>0</td>\n",
       "      <td>0</td>\n",
       "      <td>0</td>\n",
       "      <td>0</td>\n",
       "      <td>0</td>\n",
       "      <td>...</td>\n",
       "      <td>0</td>\n",
       "      <td>0</td>\n",
       "      <td>1</td>\n",
       "      <td>0</td>\n",
       "      <td>1</td>\n",
       "      <td>0</td>\n",
       "      <td>0</td>\n",
       "      <td>0</td>\n",
       "      <td>0</td>\n",
       "      <td>0</td>\n",
       "    </tr>\n",
       "    <tr>\n",
       "      <th>1</th>\n",
       "      <td>0</td>\n",
       "      <td>0</td>\n",
       "      <td>10</td>\n",
       "      <td>35</td>\n",
       "      <td>2</td>\n",
       "      <td>0</td>\n",
       "      <td>0</td>\n",
       "      <td>1</td>\n",
       "      <td>10</td>\n",
       "      <td>0</td>\n",
       "      <td>...</td>\n",
       "      <td>1</td>\n",
       "      <td>0</td>\n",
       "      <td>4</td>\n",
       "      <td>1</td>\n",
       "      <td>0</td>\n",
       "      <td>26</td>\n",
       "      <td>0</td>\n",
       "      <td>0</td>\n",
       "      <td>0</td>\n",
       "      <td>0</td>\n",
       "    </tr>\n",
       "    <tr>\n",
       "      <th>2</th>\n",
       "      <td>3</td>\n",
       "      <td>0</td>\n",
       "      <td>4</td>\n",
       "      <td>20</td>\n",
       "      <td>0</td>\n",
       "      <td>7</td>\n",
       "      <td>0</td>\n",
       "      <td>1</td>\n",
       "      <td>1</td>\n",
       "      <td>0</td>\n",
       "      <td>...</td>\n",
       "      <td>0</td>\n",
       "      <td>0</td>\n",
       "      <td>1</td>\n",
       "      <td>8</td>\n",
       "      <td>0</td>\n",
       "      <td>4</td>\n",
       "      <td>1</td>\n",
       "      <td>0</td>\n",
       "      <td>2</td>\n",
       "      <td>0</td>\n",
       "    </tr>\n",
       "    <tr>\n",
       "      <th>3</th>\n",
       "      <td>0</td>\n",
       "      <td>2</td>\n",
       "      <td>1</td>\n",
       "      <td>1</td>\n",
       "      <td>1</td>\n",
       "      <td>0</td>\n",
       "      <td>0</td>\n",
       "      <td>0</td>\n",
       "      <td>5</td>\n",
       "      <td>2</td>\n",
       "      <td>...</td>\n",
       "      <td>6</td>\n",
       "      <td>4</td>\n",
       "      <td>0</td>\n",
       "      <td>3</td>\n",
       "      <td>0</td>\n",
       "      <td>0</td>\n",
       "      <td>0</td>\n",
       "      <td>1</td>\n",
       "      <td>0</td>\n",
       "      <td>0</td>\n",
       "    </tr>\n",
       "    <tr>\n",
       "      <th>4</th>\n",
       "      <td>0</td>\n",
       "      <td>4</td>\n",
       "      <td>2</td>\n",
       "      <td>4</td>\n",
       "      <td>0</td>\n",
       "      <td>2</td>\n",
       "      <td>1</td>\n",
       "      <td>0</td>\n",
       "      <td>0</td>\n",
       "      <td>0</td>\n",
       "      <td>...</td>\n",
       "      <td>0</td>\n",
       "      <td>0</td>\n",
       "      <td>0</td>\n",
       "      <td>0</td>\n",
       "      <td>0</td>\n",
       "      <td>0</td>\n",
       "      <td>1</td>\n",
       "      <td>0</td>\n",
       "      <td>0</td>\n",
       "      <td>0</td>\n",
       "    </tr>\n",
       "  </tbody>\n",
       "</table>\n",
       "<p>5 rows × 75 columns</p>\n",
       "</div>"
      ],
      "text/plain": [
       "   feature_0  feature_1  feature_2  feature_3  feature_4  feature_5  \\\n",
       "0          0          0          0          4          0          0   \n",
       "1          0          0         10         35          2          0   \n",
       "2          3          0          4         20          0          7   \n",
       "3          0          2          1          1          1          0   \n",
       "4          0          4          2          4          0          2   \n",
       "\n",
       "   feature_6  feature_7  feature_8  feature_9  ...  feature_65  feature_66  \\\n",
       "0          0          0          0          0  ...           0           0   \n",
       "1          0          1         10          0  ...           1           0   \n",
       "2          0          1          1          0  ...           0           0   \n",
       "3          0          0          5          2  ...           6           4   \n",
       "4          1          0          0          0  ...           0           0   \n",
       "\n",
       "   feature_67  feature_68  feature_69  feature_70  feature_71  feature_72  \\\n",
       "0           1           0           1           0           0           0   \n",
       "1           4           1           0          26           0           0   \n",
       "2           1           8           0           4           1           0   \n",
       "3           0           3           0           0           0           1   \n",
       "4           0           0           0           0           1           0   \n",
       "\n",
       "   feature_73  feature_74  \n",
       "0           0           0  \n",
       "1           0           0  \n",
       "2           2           0  \n",
       "3           0           0  \n",
       "4           0           0  \n",
       "\n",
       "[5 rows x 75 columns]"
      ]
     },
     "execution_count": 11,
     "metadata": {},
     "output_type": "execute_result"
    }
   ],
   "source": [
    "X_full.head()"
   ]
  },
  {
   "cell_type": "markdown",
   "id": "7c61e1b6",
   "metadata": {},
   "source": [
    "## 3. Split the entire dataset into train and test"
   ]
  },
  {
   "cell_type": "code",
   "execution_count": 12,
   "id": "63248431",
   "metadata": {},
   "outputs": [
    {
     "name": "stdout",
     "output_type": "stream",
     "text": [
      "There are 2000 samples in the training dataset\n",
      "There are 158000 samples in the testing dataset\n",
      "Each sample has 75 features\n"
     ]
    }
   ],
   "source": [
    "from sklearn.model_selection import train_test_split\n",
    "X_train, X_test, y_train, y_test = train_test_split(X_full, y\n",
    "                                                    , train_size = train_size\n",
    "                                                    , random_state = random_state) # default Train 0.75- Test 0.25\n",
    "print(\"There are {} samples in the training dataset\".format(X_train.shape[0]))\n",
    "print(\"There are {} samples in the testing dataset\".format(X_test.shape[0]))\n",
    "print(\"Each sample has {} features\".format(X_full.shape[1]))"
   ]
  },
  {
   "cell_type": "code",
   "execution_count": 13,
   "id": "70ad48a7",
   "metadata": {},
   "outputs": [
    {
     "name": "stdout",
     "output_type": "stream",
     "text": [
      "The number of trials for each model is {'dt': 38, 'rf': 56}\n"
     ]
    }
   ],
   "source": [
    "from sklearn.model_selection import ParameterGrid\n",
    "trials = {lbl: len(list(ParameterGrid(models[lbl]['param']))) for lbl in model_lbls}\n",
    "print(\"The number of trials for each model is {}\".format(trials))"
   ]
  },
  {
   "cell_type": "markdown",
   "id": "cb4a290e",
   "metadata": {},
   "source": [
    "## 4. Prepare a data frame to collect the results and a list to store all the estimators that will be fitted"
   ]
  },
  {
   "cell_type": "code",
   "execution_count": 14,
   "id": "7cf41f29",
   "metadata": {},
   "outputs": [],
   "source": [
    "clfs = [] # list of classifiers\n",
    "results = pd.DataFrame(columns=['dataset' # dataset full or reduced\n",
    "                               ,'model','best_params','accuracy','precision_macro','recall_macro','f1_macro'])"
   ]
  },
  {
   "cell_type": "markdown",
   "id": "eea1ad9e",
   "metadata": {},
   "source": [
    "## 5. train classifiers with the entire dataset"
   ]
  },
  {
   "cell_type": "code",
   "execution_count": 15,
   "id": "eb4ea18c",
   "metadata": {},
   "outputs": [],
   "source": [
    "dataset = 'full' #"
   ]
  },
  {
   "cell_type": "code",
   "execution_count": 16,
   "id": "cc9af058",
   "metadata": {},
   "outputs": [],
   "source": [
    "for m in model_lbls:\n",
    "    clf = GridSearchCV(models[m]['estimator'], models[m]['param'], cv=cv,\n",
    "                        scoring = scoring,\n",
    "                        )\n",
    "    clf.fit(X_train, y_train)\n",
    "    clfs.append(clf)\n",
    "    y_true, y_pred = y_test, clf.predict(X_test)\n",
    "    # y_preds.append(y_pred)\n",
    "    cr = classification_report(y_true,y_pred, output_dict=True\n",
    "                                , zero_division=1\n",
    "                                )\n",
    "    # add the results to the end of dataframe\n",
    "    results.loc[len(results)] = [dataset,models[m]['name'],clf.best_params_\n",
    "                                ,cr['accuracy']\n",
    "                                ,cr['macro avg']['precision']\n",
    "                                ,cr['macro avg']['recall']\n",
    "                                ,cr['macro avg']['f1-score']]"
   ]
  },
  {
   "cell_type": "code",
   "execution_count": 17,
   "id": "a8aa41d9",
   "metadata": {},
   "outputs": [
    {
     "data": {
      "text/html": [
       "<style type=\"text/css\">\n",
       "</style>\n",
       "<table id=\"T_4f43a\">\n",
       "  <caption>Results for dataset \"full\"</caption>\n",
       "  <thead>\n",
       "    <tr>\n",
       "      <th class=\"blank level0\" >&nbsp;</th>\n",
       "      <th id=\"T_4f43a_level0_col0\" class=\"col_heading level0 col0\" >model</th>\n",
       "      <th id=\"T_4f43a_level0_col1\" class=\"col_heading level0 col1\" >best_params</th>\n",
       "      <th id=\"T_4f43a_level0_col2\" class=\"col_heading level0 col2\" >accuracy</th>\n",
       "      <th id=\"T_4f43a_level0_col3\" class=\"col_heading level0 col3\" >precision_macro</th>\n",
       "      <th id=\"T_4f43a_level0_col4\" class=\"col_heading level0 col4\" >recall_macro</th>\n",
       "      <th id=\"T_4f43a_level0_col5\" class=\"col_heading level0 col5\" >f1_macro</th>\n",
       "    </tr>\n",
       "  </thead>\n",
       "  <tbody>\n",
       "    <tr>\n",
       "      <th id=\"T_4f43a_level0_row0\" class=\"row_heading level0 row0\" >0</th>\n",
       "      <td id=\"T_4f43a_row0_col0\" class=\"data row0 col0\" >Decision Tree</td>\n",
       "      <td id=\"T_4f43a_row0_col1\" class=\"data row0 col1\" >{'class_weight': None, 'max_depth': 11}</td>\n",
       "      <td id=\"T_4f43a_row0_col2\" class=\"data row0 col2\" >0.260</td>\n",
       "      <td id=\"T_4f43a_row0_col3\" class=\"data row0 col3\" >0.146</td>\n",
       "      <td id=\"T_4f43a_row0_col4\" class=\"data row0 col4\" >0.153</td>\n",
       "      <td id=\"T_4f43a_row0_col5\" class=\"data row0 col5\" >0.147</td>\n",
       "    </tr>\n",
       "    <tr>\n",
       "      <th id=\"T_4f43a_level0_row1\" class=\"row_heading level0 row1\" >1</th>\n",
       "      <td id=\"T_4f43a_row1_col0\" class=\"data row1 col0\" >Random forest</td>\n",
       "      <td id=\"T_4f43a_row1_col1\" class=\"data row1 col1\" >{'class_weight': 'balanced', 'max_depth': 8, 'n_estimators': 15}</td>\n",
       "      <td id=\"T_4f43a_row1_col2\" class=\"data row1 col2\" >0.259</td>\n",
       "      <td id=\"T_4f43a_row1_col3\" class=\"data row1 col3\" >0.159</td>\n",
       "      <td id=\"T_4f43a_row1_col4\" class=\"data row1 col4\" >0.169</td>\n",
       "      <td id=\"T_4f43a_row1_col5\" class=\"data row1 col5\" >0.159</td>\n",
       "    </tr>\n",
       "  </tbody>\n",
       "</table>\n"
      ],
      "text/plain": [
       "<pandas.io.formats.style.Styler at 0x1f100220050>"
      ]
     },
     "metadata": {},
     "output_type": "display_data"
    }
   ],
   "source": [
    "display(results[results.dataset==dataset]\\\n",
    "            .drop('dataset',axis=1)\\\n",
    "            .style.format(precision=3)\\\n",
    "            .set_caption('Results for dataset \"{}\"'.format(dataset)))"
   ]
  },
  {
   "cell_type": "markdown",
   "id": "e2cad3cf",
   "metadata": {},
   "source": [
    "## 6. Try unsupervised feature selection: \n",
    "- use `PCA` to keep only the transformed features able to explain, cumulatively, approximately 80% of the total variance\n",
    "- execute the transformation of the feature part: the new dataset has the same number of features as the original one\n",
    "- show the explained variance for each transformed features\n",
    "    - new features are sorted for decreasing explained variance"
   ]
  },
  {
   "cell_type": "code",
   "execution_count": 18,
   "id": "1e51a5dc",
   "metadata": {
    "colab": {
     "base_uri": "https://localhost:8080/",
     "height": 453
    },
    "id": "1e51a5dc",
    "outputId": "97efa628-dc4d-42a5-c79e-c4bcf5b13b04"
   },
   "outputs": [
    {
     "data": {
      "image/png": "[encoded data removed]",
      "text/plain": [
       "<Figure size 640x480 with 1 Axes>"
      ]
     },
     "metadata": {},
     "output_type": "display_data"
    }
   ],
   "source": [
    "dataset = 'reduced_PCA' #\n",
    "pca = PCA() # create a PCA object without restrictions: all components will be calculated\n",
    "\n",
    "X_trans = pca.fit_transform(X_full)\n",
    "# .explained_variance_ratio_ contains the percentage of variance explained by each of the components\n",
    "plt.plot(range(X_full.shape[1]), pca.explained_variance_ratio_);\n",
    "\n",
    "plt.xlabel('Columns')\n",
    "plt.ylabel('PCA Explained Variance Ratio')\n",
    "\n",
    "plt.xticks(rotation = 90)\n",
    "\n",
    "plt.show()\n"
   ]
  },
  {
   "cell_type": "code",
   "execution_count": 19,
   "id": "256539ef",
   "metadata": {
    "colab": {
     "base_uri": "https://localhost:8080/"
    },
    "id": "256539ef",
    "outputId": "fb4561fb-b1e8-47dc-acff-fe0b1814e894"
   },
   "outputs": [
    {
     "name": "stdout",
     "output_type": "stream",
     "text": [
      "Used the top 31 transformed variables, they explain 80.67% of the variance\n"
     ]
    }
   ],
   "source": [
    "# the n_components parameter of PCA is the number of components to keep (if integer)\n",
    "# or the percentage variance to explain (if float)\n",
    "pca = PCA(n_components=cutoff_variance)\n",
    "X_pca = pca.fit_transform(X_full)\n",
    "k_pca = X_pca.shape[1] # number of transformed features - it will be used as a parameter for SelectKBest\n",
    "explained_variance = np.cumsum(pca.explained_variance_ratio_)[X_pca.shape[1]-1]\n",
    "    # the total amount of variance explained by the selected transformed features\n",
    "print(\"Used the top {} transformed variables, they explain {:.2f}% of the variance\"\\\n",
    "      .format(X_pca.shape[1], explained_variance*100))"
   ]
  },
  {
   "cell_type": "markdown",
   "id": "ba759f20",
   "metadata": {},
   "source": [
    "## 8. Split the dataset reduced with PCA into train and test"
   ]
  },
  {
   "cell_type": "code",
   "execution_count": 20,
   "id": "6bd36e73",
   "metadata": {
    "colab": {
     "base_uri": "https://localhost:8080/"
    },
    "id": "6bd36e73",
    "outputId": "bce29b8f-f7df-4782-f6b6-df20f68d89ea"
   },
   "outputs": [
    {
     "name": "stdout",
     "output_type": "stream",
     "text": [
      "Experimentng with the PCA reduced dataset\n",
      "There are 2000 samples in the training dataset\n",
      "There are 158000 samples in the testing dataset\n",
      "Each sample has 31 features\n"
     ]
    }
   ],
   "source": [
    "# from sklearn.model_selection import train_test_split\n",
    "X_train, X_test, y_train, y_test = train_test_split(X_pca, y\n",
    "                                                    , train_size = train_size\n",
    "                                                    , random_state = random_state) # default Train 0.75- Test 0.25\n",
    "print(\"Experimentng with the PCA reduced dataset\")\n",
    "print(\"There are {} samples in the training dataset\".format(X_train.shape[0]))\n",
    "print(\"There are {} samples in the testing dataset\".format(X_test.shape[0]))\n",
    "print(\"Each sample has {} features\".format(X_pca.shape[1]))"
   ]
  },
  {
   "cell_type": "markdown",
   "id": "22bb25fc",
   "metadata": {},
   "source": [
    "## 9. Train and test the dataset reduced with PCA"
   ]
  },
  {
   "cell_type": "code",
   "execution_count": 21,
   "id": "c1457a0e",
   "metadata": {
    "id": "c1457a0e"
   },
   "outputs": [],
   "source": [
    "for m in model_lbls:\n",
    "    clf = GridSearchCV(models[m]['estimator'], models[m]['param'], cv=cv,\n",
    "                        scoring = scoring,\n",
    "                        )\n",
    "    clf.fit(X_train, y_train)\n",
    "    clfs.append(clf)\n",
    "    y_true, y_pred = y_test, clf.predict(X_test)\n",
    "    # y_preds.append(y_pred)\n",
    "    cr = classification_report(y_true,y_pred, output_dict=True\n",
    "                                , zero_division=1\n",
    "                                )\n",
    "    results.loc[len(results)] = [dataset,models[m]['name'],clf.best_params_\n",
    "                                # ,(clf.cv_results_['mean_fit_time'].sum()+clf.cv_results_['mean_score_time'].sum())*n_splits\n",
    "                                ,cr['accuracy']\n",
    "                                ,cr['macro avg']['precision']\n",
    "                                ,cr['macro avg']['recall']\n",
    "                                ,cr['macro avg']['f1-score']]"
   ]
  },
  {
   "cell_type": "code",
   "execution_count": 22,
   "id": "0e72be9b",
   "metadata": {
    "colab": {
     "base_uri": "https://localhost:8080/",
     "height": 241
    },
    "id": "0e72be9b",
    "outputId": "680f0fa7-b564-4038-95dc-785920e84184"
   },
   "outputs": [
    {
     "data": {
      "text/html": [
       "<style type=\"text/css\">\n",
       "</style>\n",
       "<table id=\"T_6c224\">\n",
       "  <caption>Results for dataset \"reduced_PCA\"</caption>\n",
       "  <thead>\n",
       "    <tr>\n",
       "      <th class=\"blank level0\" >&nbsp;</th>\n",
       "      <th id=\"T_6c224_level0_col0\" class=\"col_heading level0 col0\" >model</th>\n",
       "      <th id=\"T_6c224_level0_col1\" class=\"col_heading level0 col1\" >best_params</th>\n",
       "      <th id=\"T_6c224_level0_col2\" class=\"col_heading level0 col2\" >accuracy</th>\n",
       "      <th id=\"T_6c224_level0_col3\" class=\"col_heading level0 col3\" >precision_macro</th>\n",
       "      <th id=\"T_6c224_level0_col4\" class=\"col_heading level0 col4\" >recall_macro</th>\n",
       "      <th id=\"T_6c224_level0_col5\" class=\"col_heading level0 col5\" >f1_macro</th>\n",
       "    </tr>\n",
       "  </thead>\n",
       "  <tbody>\n",
       "    <tr>\n",
       "      <th id=\"T_6c224_level0_row0\" class=\"row_heading level0 row0\" >2</th>\n",
       "      <td id=\"T_6c224_row0_col0\" class=\"data row0 col0\" >Decision Tree</td>\n",
       "      <td id=\"T_6c224_row0_col1\" class=\"data row0 col1\" >{'class_weight': None, 'max_depth': 6}</td>\n",
       "      <td id=\"T_6c224_row0_col2\" class=\"data row0 col2\" >0.279</td>\n",
       "      <td id=\"T_6c224_row0_col3\" class=\"data row0 col3\" >0.258</td>\n",
       "      <td id=\"T_6c224_row0_col4\" class=\"data row0 col4\" >0.148</td>\n",
       "      <td id=\"T_6c224_row0_col5\" class=\"data row0 col5\" >0.134</td>\n",
       "    </tr>\n",
       "    <tr>\n",
       "      <th id=\"T_6c224_level0_row1\" class=\"row_heading level0 row1\" >3</th>\n",
       "      <td id=\"T_6c224_row1_col0\" class=\"data row1 col0\" >Random forest</td>\n",
       "      <td id=\"T_6c224_row1_col1\" class=\"data row1 col1\" >{'class_weight': 'balanced', 'max_depth': 8, 'n_estimators': 20}</td>\n",
       "      <td id=\"T_6c224_row1_col2\" class=\"data row1 col2\" >0.251</td>\n",
       "      <td id=\"T_6c224_row1_col3\" class=\"data row1 col3\" >0.155</td>\n",
       "      <td id=\"T_6c224_row1_col4\" class=\"data row1 col4\" >0.160</td>\n",
       "      <td id=\"T_6c224_row1_col5\" class=\"data row1 col5\" >0.156</td>\n",
       "    </tr>\n",
       "  </tbody>\n",
       "</table>\n"
      ],
      "text/plain": [
       "<pandas.io.formats.style.Styler at 0x1f1027a5d10>"
      ]
     },
     "metadata": {},
     "output_type": "display_data"
    }
   ],
   "source": [
    "display(results[results.dataset==dataset]\\\n",
    "            .drop('dataset',axis=1)\\\n",
    "            .style.format(precision=3)\\\n",
    "            .set_caption('Results for dataset \"{}\"'.format(dataset)))"
   ]
  },
  {
   "cell_type": "code",
   "execution_count": 23,
   "id": "1268d88e",
   "metadata": {},
   "outputs": [
    {
     "data": {
      "image/png": "[encoded data removed]",
      "text/plain": [
       "<Figure size 800x600 with 2 Axes>"
      ]
     },
     "metadata": {},
     "output_type": "display_data"
    }
   ],
   "source": [
    "import matplotlib.pyplot as plt\n",
    "from sklearn.metrics import ConfusionMatrixDisplay\n",
    "\n",
    "best_row = results.loc[results.dataset==dataset, scoring].idxmax(axis=0)\n",
    "fig, ax = plt.subplots(figsize=(8, 6))  # Set figure size for each iteration\n",
    "disp = ConfusionMatrixDisplay.from_estimator(\n",
    "    X=X_test, y=y_test, estimator=clfs[best_row], normalize='true', ax=ax\n",
    ")\n",
    "\n",
    "# Format numbers in the confusion matrix to two decimal places\n",
    "if disp.text_ is not None:  # Ensure text annotations exist\n",
    "    for text_element in disp.text_.ravel():  # Flatten in case of a 2D array\n",
    "        text_element.set_text(f\"{float(text_element.get_text()):.2f}\")\n",
    "\n",
    "disp.ax_.set_title(f\"Best Model for dataset {dataset}: {results.at[best_row, 'model']}\")\n",
    "\n",
    "plt.show()\n"
   ]
  },
  {
   "cell_type": "markdown",
   "id": "ded70270",
   "metadata": {},
   "source": [
    "## 10. try supervised feature selection \n",
    "use `SelectKBest` as selector and `mutual_info_classif` as estimator of the relationship between each feature and the target"
   ]
  },
  {
   "cell_type": "markdown",
   "id": "d180ef14",
   "metadata": {},
   "source": [
    "## 11. Split into train and test and set the number of features to select as the number of features in `X_pca`"
   ]
  },
  {
   "cell_type": "code",
   "execution_count": 24,
   "id": "d22c0ab2",
   "metadata": {},
   "outputs": [],
   "source": [
    "from sklearn.feature_selection import mutual_info_classif, SelectKBest\n",
    "X_train, X_test, y_train, y_test = train_test_split(X_full, y\n",
    "                                                    , train_size = train_size\n",
    "                                                    , random_state = random_state) # default Train 0.75- Test 0.25\n",
    "k_best = k_pca  # Number of top features to select, same as the number of selected PCA components"
   ]
  },
  {
   "cell_type": "markdown",
   "id": "40b7952c",
   "metadata": {},
   "source": [
    "## 12. fit and transform the data\n",
    "- fit and transform with the selector using `X_train`\n",
    "- transform `X_test` using the fitted selector"
   ]
  },
  {
   "cell_type": "code",
   "execution_count": 25,
   "id": "c6e80b82",
   "metadata": {},
   "outputs": [],
   "source": [
    "kbest = SelectKBest(mutual_info_classif, k=k_best)\n",
    "X_train = kbest.fit_transform(X_train, y_train)\n",
    "X_test = kbest.transform(X_test)\n",
    "dataset = 'reduced_SelectKBest' "
   ]
  },
  {
   "cell_type": "markdown",
   "id": "8c58b8e8",
   "metadata": {},
   "source": [
    "## 13. Train and test"
   ]
  },
  {
   "cell_type": "code",
   "execution_count": 26,
   "id": "39335ed7",
   "metadata": {},
   "outputs": [],
   "source": [
    "for m in model_lbls:\n",
    "    clf = GridSearchCV(models[m]['estimator'], models[m]['param'], cv=cv,\n",
    "                        scoring = scoring,\n",
    "\n",
    "                        )\n",
    "\n",
    "    clf.fit(X_train, y_train)\n",
    "    clfs.append(clf)\n",
    "    y_true, y_pred = y_test, clf.predict(X_test)\n",
    "    # y_preds.append(y_pred)\n",
    "    cr = classification_report(y_true,y_pred, output_dict=True\n",
    "                                , zero_division=1\n",
    "                                )\n",
    "    results.loc[len(results)] = [dataset,models[m]['name'],clf.best_params_\n",
    "                                # ,(clf.cv_results_['mean_fit_time'].sum()+clf.cv_results_['mean_score_time'].sum())*n_splits\n",
    "                                ,cr['accuracy']\n",
    "                                ,cr['macro avg']['precision']\n",
    "                                ,cr['macro avg']['recall']\n",
    "                                ,cr['macro avg']['f1-score']]"
   ]
  },
  {
   "cell_type": "code",
   "execution_count": 27,
   "id": "dc4c6e61",
   "metadata": {},
   "outputs": [],
   "source": [
    "## 14. Show the results"
   ]
  },
  {
   "cell_type": "code",
   "execution_count": 28,
   "id": "4b6dc7ab",
   "metadata": {},
   "outputs": [
    {
     "data": {
      "text/html": [
       "<style type=\"text/css\">\n",
       "</style>\n",
       "<table id=\"T_287f2\">\n",
       "  <caption>Results for dataset \"reduced_SelectKBest\"</caption>\n",
       "  <thead>\n",
       "    <tr>\n",
       "      <th class=\"blank level0\" >&nbsp;</th>\n",
       "      <th id=\"T_287f2_level0_col0\" class=\"col_heading level0 col0\" >model</th>\n",
       "      <th id=\"T_287f2_level0_col1\" class=\"col_heading level0 col1\" >best_params</th>\n",
       "      <th id=\"T_287f2_level0_col2\" class=\"col_heading level0 col2\" >accuracy</th>\n",
       "      <th id=\"T_287f2_level0_col3\" class=\"col_heading level0 col3\" >precision_macro</th>\n",
       "      <th id=\"T_287f2_level0_col4\" class=\"col_heading level0 col4\" >recall_macro</th>\n",
       "      <th id=\"T_287f2_level0_col5\" class=\"col_heading level0 col5\" >f1_macro</th>\n",
       "    </tr>\n",
       "  </thead>\n",
       "  <tbody>\n",
       "    <tr>\n",
       "      <th id=\"T_287f2_level0_row0\" class=\"row_heading level0 row0\" >4</th>\n",
       "      <td id=\"T_287f2_row0_col0\" class=\"data row0 col0\" >Decision Tree</td>\n",
       "      <td id=\"T_287f2_row0_col1\" class=\"data row0 col1\" >{'class_weight': None, 'max_depth': 11}</td>\n",
       "      <td id=\"T_287f2_row0_col2\" class=\"data row0 col2\" >0.267</td>\n",
       "      <td id=\"T_287f2_row0_col3\" class=\"data row0 col3\" >0.150</td>\n",
       "      <td id=\"T_287f2_row0_col4\" class=\"data row0 col4\" >0.160</td>\n",
       "      <td id=\"T_287f2_row0_col5\" class=\"data row0 col5\" >0.150</td>\n",
       "    </tr>\n",
       "    <tr>\n",
       "      <th id=\"T_287f2_level0_row1\" class=\"row_heading level0 row1\" >5</th>\n",
       "      <td id=\"T_287f2_row1_col0\" class=\"data row1 col0\" >Random forest</td>\n",
       "      <td id=\"T_287f2_row1_col1\" class=\"data row1 col1\" >{'class_weight': 'balanced', 'max_depth': 16, 'n_estimators': 20}</td>\n",
       "      <td id=\"T_287f2_row1_col2\" class=\"data row1 col2\" >0.302</td>\n",
       "      <td id=\"T_287f2_row1_col3\" class=\"data row1 col3\" >0.159</td>\n",
       "      <td id=\"T_287f2_row1_col4\" class=\"data row1 col4\" >0.167</td>\n",
       "      <td id=\"T_287f2_row1_col5\" class=\"data row1 col5\" >0.152</td>\n",
       "    </tr>\n",
       "  </tbody>\n",
       "</table>\n"
      ],
      "text/plain": [
       "<pandas.io.formats.style.Styler at 0x1f1000af750>"
      ]
     },
     "metadata": {},
     "output_type": "display_data"
    }
   ],
   "source": [
    "display(results[results.dataset==dataset]\\\n",
    "            .drop('dataset',axis=1)\\\n",
    "            .style.format(precision=3)\\\n",
    "            .set_caption('Results for dataset \"{}\"'.format(dataset)))"
   ]
  },
  {
   "cell_type": "code",
   "execution_count": 29,
   "id": "804b8da3",
   "metadata": {},
   "outputs": [
    {
     "data": {
      "image/png": "[encoded data removed]",
      "text/plain": [
       "<Figure size 800x600 with 2 Axes>"
      ]
     },
     "metadata": {},
     "output_type": "display_data"
    }
   ],
   "source": [
    "import matplotlib.pyplot as plt\n",
    "from sklearn.metrics import ConfusionMatrixDisplay\n",
    "\n",
    "best_row = results.loc[results.dataset==dataset, scoring].idxmax(axis=0)\n",
    "fig, ax = plt.subplots(figsize=(8, 6))  # Set figure size\n",
    "disp = ConfusionMatrixDisplay.from_estimator(\n",
    "    X=X_test, y=y_test, estimator=clfs[best_row], normalize='true', ax=ax\n",
    ")\n",
    "\n",
    "# Format numbers in the confusion matrix to two decimal places\n",
    "if disp.text_ is not None:  # Ensure text annotations exist\n",
    "    for text_element in disp.text_.ravel():  # Flatten in case of a 2D array\n",
    "        text_element.set_text(f\"{float(text_element.get_text()):.2f}\")\n",
    "\n",
    "disp.ax_.set_title(f\"Best Model for dataset {dataset}: {results.at[best_row, 'model']}\")\n",
    "\n",
    "plt.show()\n"
   ]
  },
  {
   "cell_type": "code",
   "execution_count": 30,
   "id": "a0d58e45",
   "metadata": {},
   "outputs": [
    {
     "data": {
      "text/html": [
       "<div>\n",
       "<style scoped>\n",
       "    .dataframe tbody tr th:only-of-type {\n",
       "        vertical-align: middle;\n",
       "    }\n",
       "\n",
       "    .dataframe tbody tr th {\n",
       "        vertical-align: top;\n",
       "    }\n",
       "\n",
       "    .dataframe thead th {\n",
       "        text-align: right;\n",
       "    }\n",
       "</style>\n",
       "<table border=\"1\" class=\"dataframe\">\n",
       "  <thead>\n",
       "    <tr style=\"text-align: right;\">\n",
       "      <th></th>\n",
       "      <th>dataset</th>\n",
       "      <th>model</th>\n",
       "      <th>best_params</th>\n",
       "      <th>accuracy</th>\n",
       "      <th>precision_macro</th>\n",
       "      <th>recall_macro</th>\n",
       "      <th>f1_macro</th>\n",
       "    </tr>\n",
       "  </thead>\n",
       "  <tbody>\n",
       "    <tr>\n",
       "      <th>1</th>\n",
       "      <td>full</td>\n",
       "      <td>Random forest</td>\n",
       "      <td>{'class_weight': 'balanced', 'max_depth': 8, '...</td>\n",
       "      <td>0.258994</td>\n",
       "      <td>0.159341</td>\n",
       "      <td>0.168936</td>\n",
       "      <td>0.159464</td>\n",
       "    </tr>\n",
       "    <tr>\n",
       "      <th>3</th>\n",
       "      <td>reduced_PCA</td>\n",
       "      <td>Random forest</td>\n",
       "      <td>{'class_weight': 'balanced', 'max_depth': 8, '...</td>\n",
       "      <td>0.251152</td>\n",
       "      <td>0.155481</td>\n",
       "      <td>0.160261</td>\n",
       "      <td>0.156187</td>\n",
       "    </tr>\n",
       "    <tr>\n",
       "      <th>5</th>\n",
       "      <td>reduced_SelectKBest</td>\n",
       "      <td>Random forest</td>\n",
       "      <td>{'class_weight': 'balanced', 'max_depth': 16, ...</td>\n",
       "      <td>0.302253</td>\n",
       "      <td>0.159165</td>\n",
       "      <td>0.166934</td>\n",
       "      <td>0.151957</td>\n",
       "    </tr>\n",
       "    <tr>\n",
       "      <th>4</th>\n",
       "      <td>reduced_SelectKBest</td>\n",
       "      <td>Decision Tree</td>\n",
       "      <td>{'class_weight': None, 'max_depth': 11}</td>\n",
       "      <td>0.267025</td>\n",
       "      <td>0.150313</td>\n",
       "      <td>0.159941</td>\n",
       "      <td>0.150368</td>\n",
       "    </tr>\n",
       "    <tr>\n",
       "      <th>0</th>\n",
       "      <td>full</td>\n",
       "      <td>Decision Tree</td>\n",
       "      <td>{'class_weight': None, 'max_depth': 11}</td>\n",
       "      <td>0.259551</td>\n",
       "      <td>0.145943</td>\n",
       "      <td>0.152558</td>\n",
       "      <td>0.146764</td>\n",
       "    </tr>\n",
       "    <tr>\n",
       "      <th>2</th>\n",
       "      <td>reduced_PCA</td>\n",
       "      <td>Decision Tree</td>\n",
       "      <td>{'class_weight': None, 'max_depth': 6}</td>\n",
       "      <td>0.278557</td>\n",
       "      <td>0.257818</td>\n",
       "      <td>0.148100</td>\n",
       "      <td>0.134138</td>\n",
       "    </tr>\n",
       "  </tbody>\n",
       "</table>\n",
       "</div>"
      ],
      "text/plain": [
       "               dataset          model  \\\n",
       "1                 full  Random forest   \n",
       "3          reduced_PCA  Random forest   \n",
       "5  reduced_SelectKBest  Random forest   \n",
       "4  reduced_SelectKBest  Decision Tree   \n",
       "0                 full  Decision Tree   \n",
       "2          reduced_PCA  Decision Tree   \n",
       "\n",
       "                                         best_params  accuracy  \\\n",
       "1  {'class_weight': 'balanced', 'max_depth': 8, '...  0.258994   \n",
       "3  {'class_weight': 'balanced', 'max_depth': 8, '...  0.251152   \n",
       "5  {'class_weight': 'balanced', 'max_depth': 16, ...  0.302253   \n",
       "4            {'class_weight': None, 'max_depth': 11}  0.267025   \n",
       "0            {'class_weight': None, 'max_depth': 11}  0.259551   \n",
       "2             {'class_weight': None, 'max_depth': 6}  0.278557   \n",
       "\n",
       "   precision_macro  recall_macro  f1_macro  \n",
       "1         0.159341      0.168936  0.159464  \n",
       "3         0.155481      0.160261  0.156187  \n",
       "5         0.159165      0.166934  0.151957  \n",
       "4         0.150313      0.159941  0.150368  \n",
       "0         0.145943      0.152558  0.146764  \n",
       "2         0.257818      0.148100  0.134138  "
      ]
     },
     "execution_count": 30,
     "metadata": {},
     "output_type": "execute_result"
    }
   ],
   "source": [
    "results.sort_values(by='f1_macro',ascending=False)"
   ]
  },
  {
   "cell_type": "markdown",
   "id": "2444a8d4",
   "metadata": {},
   "source": [
    "## Comment\n",
    "Random Forest gives always the best result for `f1_macro` score, and the numbers are very similar (the difference is in the third decimal).\n",
    "\n",
    "On the other hand, the solution with the `reduced_SelectKBest` has the best accuracy, for this reason we choose number 5 as the final solution"
   ]
  },
  {
   "cell_type": "code",
   "execution_count": 31,
   "id": "f270c40f",
   "metadata": {},
   "outputs": [
    {
     "name": "stdout",
     "output_type": "stream",
     "text": [
      "The best model is 'Random forest' with the dataset 'full' and the following parameters:\n",
      " {'class_weight': 'balanced', 'max_depth': 8, 'n_estimators': 15}\n"
     ]
    }
   ],
   "source": [
    "model, best_params, dataset = \\\n",
    "    results.loc[results['f1_macro'].idxmax(axis=0),['model','best_params','dataset']]\n",
    "print(\"The best model is '{}' with the dataset '{}' and the following parameters:\\n {}\"\\\n",
    "    .format(str.strip(model), dataset, best_params))"
   ]
  },
  {
   "cell_type": "markdown",
   "id": "258e378a",
   "metadata": {},
   "source": [
    "## 16. Final test\n",
    " - load the test data\n",
    "    - train the best model with the `X` data (possibily reduced, according to the best solution)\n",
    "    - predict for `X_final_test`\n",
    "    - show the confusion matrix and the classification report "
   ]
  },
  {
   "cell_type": "code",
   "execution_count": 32,
   "id": "4294f553",
   "metadata": {},
   "outputs": [
    {
     "name": "stdout",
     "output_type": "stream",
     "text": [
      "Rows in test file 40000\n"
     ]
    }
   ],
   "source": [
    "df_test = pd.read_csv(file_path+test_file)\n",
    "y_test = df_test['target']\n",
    "X_red = kbest.fit_transform(df_test.drop(['id','target'], axis=1), y_test)\n",
    "print(\"Rows in test file {}\".format(df_test.shape[0]))\n",
    "rf = RandomForestClassifier(random_state=random_state, **best_params)\n",
    "rf.fit(X_full, y)\n",
    "y_test_pred = rf.predict(df_test.drop(['id','target'], axis=1))\n",
    "# df_test['target'] = y_test_pred #le.inverse_transform(y_test_pred)\n",
    "# df_test[['id', 'target']].to_csv('submission.csv', index=False)"
   ]
  },
  {
   "cell_type": "code",
   "execution_count": 33,
   "id": "1fd6cb32",
   "metadata": {},
   "outputs": [
    {
     "name": "stdout",
     "output_type": "stream",
     "text": [
      "              precision    recall  f1-score   support\n",
      "\n",
      "     Class_1       0.08      0.02      0.03      1873\n",
      "     Class_2       0.28      0.56      0.38      4884\n",
      "     Class_3       0.10      0.11      0.10      3007\n",
      "     Class_4       0.03      0.05      0.03       893\n",
      "     Class_5       0.02      0.06      0.03       625\n",
      "     Class_6       0.46      0.38      0.42     10357\n",
      "     Class_7       0.10      0.10      0.10      2926\n",
      "     Class_8       0.36      0.36      0.36     10239\n",
      "     Class_9       0.14      0.04      0.06      5196\n",
      "\n",
      "    accuracy                           0.28     40000\n",
      "   macro avg       0.17      0.19      0.17     40000\n",
      "weighted avg       0.28      0.28      0.27     40000\n",
      "\n"
     ]
    }
   ],
   "source": [
    "print(classification_report(y_test,y_test_pred))"
   ]
  },
  {
   "cell_type": "markdown",
   "id": "18bdcdae",
   "metadata": {},
   "source": [
    "#### Show the final confusion matrix"
   ]
  },
  {
   "cell_type": "code",
   "execution_count": 34,
   "id": "45710994",
   "metadata": {},
   "outputs": [
    {
     "data": {
      "image/png": "[encoded data removed]",
      "text/plain": [
       "<Figure size 800x800 with 2 Axes>"
      ]
     },
     "metadata": {},
     "output_type": "display_data"
    }
   ],
   "source": [
    "fig, ax = plt.subplots(figsize=(8, 8))  # Set figure size for each iteration\n",
    "disp = ConfusionMatrixDisplay.from_predictions(\n",
    "    y_test, y_test_pred, normalize='true', ax=ax\n",
    ")\n",
    "# Format numbers in the confusion matrix to two decimal places\n",
    "if disp.text_ is not None:  # Ensure text annotations exist\n",
    "    for text_element in disp.text_.ravel():  # Flatten in case of a 2D array\n",
    "        text_element.set_text(f\"{float(text_element.get_text()):.2f}\")\n",
    "\n",
    "disp.ax_.set_title(f\"Final test for dataset {dataset}: {results.at[best_row, 'model']}\")\n",
    "\n",
    "plt.show()\n"
   ]
  }
 ],
 "metadata": {
  "colab": {
   "provenance": []
  },
  "kernelspec": {
   "display_name": "Python 3",
   "language": "python",
   "name": "python3"
  },
  "language_info": {
   "codemirror_mode": {
    "name": "ipython",
    "version": 3
   },
   "file_extension": ".py",
   "mimetype": "text/x-python",
   "name": "python",
   "nbconvert_exporter": "python",
   "pygments_lexer": "ipython3",
   "version": "3.13.2"
  }
 },
 "nbformat": 4,
 "nbformat_minor": 5
}
